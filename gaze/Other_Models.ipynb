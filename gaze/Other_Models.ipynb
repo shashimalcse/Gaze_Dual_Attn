{
  "cells": [
    {
      "cell_type": "code",
      "execution_count": null,
      "metadata": {
        "colab": {
          "background_save": true
        },
        "id": "lX-BDvJXxB6r",
        "outputId": "64627544-cb3d-40e7-81ea-3552f4c4a725"
      },
      "outputs": [
        {
          "name": "stderr",
          "output_type": "stream",
          "text": [
            "ERROR:root:Internal Python error in the inspect module.\n",
            "Below is the traceback from this internal error.\n",
            "\n"
          ]
        },
        {
          "name": "stdout",
          "output_type": "stream",
          "text": [
            "Traceback (most recent call last):\n",
            "  File \"/usr/local/lib/python3.7/dist-packages/IPython/core/interactiveshell.py\", line 2882, in run_code\n",
            "    exec(code_obj, self.user_global_ns, self.user_ns)\n",
            "  File \"<ipython-input-1-5b15b8961fb8>\", line 2, in <module>\n",
            "    drive.mount('/content/drive')\n",
            "  File \"/usr/local/lib/python3.7/dist-packages/google/colab/drive.py\", line 115, in mount\n",
            "    ephemeral=True)\n",
            "  File \"/usr/local/lib/python3.7/dist-packages/google/colab/drive.py\", line 135, in _mount\n",
            "    'request_auth', request={'authType': 'dfs_ephemeral'}, timeout_sec=None)\n",
            "  File \"/usr/local/lib/python3.7/dist-packages/google/colab/_message.py\", line 175, in blocking_request\n",
            "    return read_reply_from_input(request_id, timeout_sec)\n",
            "  File \"/usr/local/lib/python3.7/dist-packages/google/colab/_message.py\", line 101, in read_reply_from_input\n",
            "    time.sleep(0.025)\n",
            "KeyboardInterrupt\n",
            "\n",
            "During handling of the above exception, another exception occurred:\n",
            "\n",
            "Traceback (most recent call last):\n",
            "  File \"/usr/local/lib/python3.7/dist-packages/IPython/core/interactiveshell.py\", line 1823, in showtraceback\n",
            "    stb = value._render_traceback_()\n",
            "AttributeError: 'KeyboardInterrupt' object has no attribute '_render_traceback_'\n",
            "\n",
            "During handling of the above exception, another exception occurred:\n",
            "\n",
            "Traceback (most recent call last):\n",
            "  File \"/usr/local/lib/python3.7/dist-packages/IPython/core/ultratb.py\", line 1132, in get_records\n",
            "    return _fixed_getinnerframes(etb, number_of_lines_of_context, tb_offset)\n",
            "  File \"/usr/local/lib/python3.7/dist-packages/IPython/core/ultratb.py\", line 313, in wrapped\n",
            "    return f(*args, **kwargs)\n",
            "  File \"/usr/local/lib/python3.7/dist-packages/IPython/core/ultratb.py\", line 358, in _fixed_getinnerframes\n",
            "    records = fix_frame_records_filenames(inspect.getinnerframes(etb, context))\n",
            "  File \"/usr/lib/python3.7/inspect.py\", line 1502, in getinnerframes\n",
            "    frameinfo = (tb.tb_frame,) + getframeinfo(tb, context)\n",
            "  File \"/usr/lib/python3.7/inspect.py\", line 1460, in getframeinfo\n",
            "    filename = getsourcefile(frame) or getfile(frame)\n",
            "  File \"/usr/lib/python3.7/inspect.py\", line 696, in getsourcefile\n",
            "    if getattr(getmodule(object, filename), '__loader__', None) is not None:\n",
            "  File \"/usr/lib/python3.7/inspect.py\", line 742, in getmodule\n",
            "    os.path.realpath(f)] = module.__name__\n",
            "  File \"/usr/lib/python3.7/posixpath.py\", line 396, in realpath\n",
            "    return abspath(path)\n",
            "  File \"/usr/lib/python3.7/posixpath.py\", line 385, in abspath\n",
            "    return normpath(path)\n",
            "KeyboardInterrupt\n"
          ]
        },
        {
          "ename": "KeyboardInterrupt",
          "evalue": "ignored",
          "output_type": "error",
          "traceback": [
            "\u001b[0;31m---------------------------------------------------------------------------\u001b[0m"
          ]
        }
      ],
      "source": [
        "from google.colab import drive\n",
        "drive.mount('/content/drive') "
      ]
    },
    {
      "cell_type": "code",
      "execution_count": null,
      "metadata": {
        "colab": {
          "background_save": true
        },
        "id": "BZ5t17sj3bHC"
      },
      "outputs": [],
      "source": [
        "!git clone https://github.com/shashimalcse/RetailGazeDataset.git"
      ]
    },
    {
      "cell_type": "code",
      "execution_count": null,
      "metadata": {
        "colab": {
          "base_uri": "https://localhost:8080/"
        },
        "id": "SoQgi0GV32Dn",
        "outputId": "b4c2d8ca-39fb-458a-841d-de8bff915650"
      },
      "outputs": [
        {
          "name": "stdout",
          "output_type": "stream",
          "text": [
            "/content/RetailGazeDataset/retailgaze\n"
          ]
        }
      ],
      "source": [
        "%cd /content/RetailGazeDataset/retailgaze/"
      ]
    },
    {
      "cell_type": "code",
      "execution_count": null,
      "metadata": {
        "id": "egFpWu7y4TFP"
      },
      "outputs": [],
      "source": [
        "import torch\n",
        "from torchvision import transforms\n",
        "import torch.nn as nn\n",
        "from torch.utils.data import Dataset, DataLoader\n",
        "\n",
        "import argparse\n",
        "import os\n",
        "from datetime import datetime\n",
        "import shutil\n",
        "import numpy as np\n",
        "\n",
        "from sklearn.metrics import roc_auc_score\n",
        "from sklearn.metrics import average_precision_score\n",
        "import cv2\n",
        "\n",
        "#from utils_logging import setup_logger"
      ]
    },
    {
      "cell_type": "code",
      "execution_count": null,
      "metadata": {
        "id": "w_5hkgyUCOBk"
      },
      "outputs": [],
      "source": [
        "x=torch.load(\"/content/drive/MyDrive/RetailGaze/masks/106070644\")"
      ]
    },
    {
      "cell_type": "code",
      "execution_count": null,
      "metadata": {
        "colab": {
          "base_uri": "https://localhost:8080/",
          "height": 269
        },
        "id": "AGOTz6LPCi26",
        "outputId": "8ce7a349-b50a-458d-83fa-419d56757a40"
      },
      "outputs": [
        {
          "data": {
            "image/png": "[encoded data removed]",
            "text/plain": [
              "<Figure size 432x288 with 1 Axes>"
            ]
          },
          "metadata": {},
          "output_type": "display_data"
        }
      ],
      "source": [
        "import matplotlib.pyplot as plt\n",
        "plt.imshow(x.squeeze(0))\n",
        "plt.show()"
      ]
    },
    {
      "cell_type": "code",
      "execution_count": null,
      "metadata": {
        "id": "x1w1lfHW3vX3"
      },
      "outputs": [],
      "source": [
        "from models.chong import ModelSpatial\n",
        "from models.__init__ import save_checkpoint, resume_checkpoint\n",
        "from dataloader.chong import GazeDataset, GooDataset, RetailGaze\n",
        "from dataloader import chong_imutils\n",
        "from training.train_chong import train, test, GazeOptimizer"
      ]
    },
    {
      "cell_type": "code",
      "execution_count": null,
      "metadata": {
        "id": "O8lpa4Ln4H-w"
      },
      "outputs": [],
      "source": [
        "# Logger will save the training and test errors to a .log file \n",
        "logger = setup_logger(name='first_logger',\n",
        "                      log_dir ='./logs/',\n",
        "                      log_file='train_chong_gooreal.log',\n",
        "                      log_format = '%(asctime)s %(levelname)s %(message)s',\n",
        "                      verbose=True)"
      ]
    },
    {
      "cell_type": "code",
      "execution_count": null,
      "metadata": {
        "id": "8l5vWJOt4XZc"
      },
      "outputs": [],
      "source": [
        "# Dataloaders for GOO-Synth\n",
        "batch_size=32\n",
        "workers=12\n",
        "\n",
        "images_dir = '/content/drive/MyDrive/RetailGaze/RetailGaze_V2/'\n",
        "pickle_path = '/content/drive/MyDrive/RetailGaze/RetailGaze_V3_train.pickle'\n",
        "test_images_dir = '/content/drive/MyDrive/RetailGaze/RetailGaze_V2/'\n",
        "test_pickle_path = '/content/drive/MyDrive/RetailGaze/RetailGaze_V3_test.pickle'\n",
        "\n",
        "train_set = RetailGaze(images_dir, pickle_path, 'train')\n",
        "train_data_loader = DataLoader(dataset=train_set,\n",
        "                                           batch_size=batch_size,\n",
        "                                           shuffle=True,\n",
        "                                           num_workers=16)\n",
        "\n",
        "test_set = RetailGaze(test_images_dir, test_pickle_path, 'test')\n",
        "test_data_loader = DataLoader(test_set, batch_size=batch_size//2,\n",
        "                            shuffle=False, num_workers=8)"
      ]
    },
    {
      "cell_type": "code",
      "execution_count": null,
      "metadata": {
        "id": "5Jr-DFfS5GqE"
      },
      "outputs": [],
      "source": [
        "!wget https://www.dropbox.com/s/s9y65ajzjz4thve/initial_weights_for_spatial_training.pt\n",
        "init_weights = 'initial_weights_for_spatial_training.pt'\n",
        "\n",
        "# Loads model\n",
        "print(\"==> Constructing model\")\n",
        "net = ModelSpatial()\n",
        "net.cuda()\n",
        "\n",
        "# Hyperparameters\n",
        "start_epoch = 0\n",
        "max_epoch = 5\n",
        "learning_rate = 3e-4\n",
        "\n",
        "# Initial weights chong\n",
        "print(\"==> Loading initial weights\")\n",
        "model_dict = net.state_dict()\n",
        "pretrained_dict = torch.load(init_weights)\n",
        "pretrained_dict = pretrained_dict['model']\n",
        "model_dict.update(pretrained_dict)\n",
        "net.load_state_dict(model_dict)\n",
        "\n",
        "# Initializes Optimizer\n",
        "gaze_opt = GazeOptimizer(net, learning_rate)\n",
        "optimizer = gaze_opt.getOptimizer(start_epoch)\n",
        "\n",
        "# Resuming Training\n",
        "resume_training = False\n",
        "resume_path = './saved_models/chong_goosynth/model_epoch25.pth.tar'\n",
        "if resume_training:\n",
        "    net, optimizer, _ = resume_checkpoint(net, optimizer,resume_path)\n",
        "    test(net, test_data_loader,logger, save_output=True)"
      ]
    },
    {
      "cell_type": "code",
      "execution_count": null,
      "metadata": {
        "id": "T6m0ClO_5Qp1"
      },
      "outputs": [],
      "source": [
        "test(net, test_data_loader,logger, save_output=True)"
      ]
    },
    {
      "cell_type": "code",
      "execution_count": null,
      "metadata": {
        "id": "if53xR5r5shV"
      },
      "outputs": [],
      "source": [
        "best_l2 = np.inf\n",
        "\n",
        "for epoch in range(1,2):\n",
        "\n",
        "    # Update optimizer\n",
        "    optimizer = gaze_opt.getOptimizer(epoch)\n",
        "\n",
        "    # Train model\n",
        "    print('training')\n",
        "    train(net, train_data_loader, optimizer, epoch, logger)\n",
        "\n",
        "    # Evaluate model\n",
        "    #scores = test(net, test_data_loader, logger)\n",
        "    \n",
        "    # Save model+optimizer with best L2 Scorehttp://localhost:8888/notebooks/train_chong.ipynb#\n",
        "    #if scores[1] < best_l2:\n",
        "    #    best_l2 = scores[1]\n",
        "    #    save_path = './saved_models/chong_gooreal_notrained/'\n",
        "    #    save_checkpoint(net, optimizer, 420, save_path)"
      ]
    },
    {
      "cell_type": "code",
      "execution_count": null,
      "metadata": {
        "id": "o-38ocLL52Nl"
      },
      "outputs": [],
      "source": [
        "test(net, test_data_loader,logger, save_output=True)"
      ]
    },
    {
      "cell_type": "code",
      "execution_count": null,
      "metadata": {
        "id": "aijjhMee5_Hn"
      },
      "outputs": [],
      "source": [
        "best_l2 = np.inf\n",
        "\n",
        "for epoch in range(1,6):\n",
        "\n",
        "    # Update optimizer\n",
        "    optimizer = gaze_opt.getOptimizer(epoch)\n",
        "\n",
        "    # Train model\n",
        "    print('training')\n",
        "    train(net, train_data_loader, optimizer, epoch, logger)\n",
        "\n",
        "    # Evaluate model\n",
        "    #scores = test(net, test_data_loader, logger)\n",
        "    \n",
        "    # Save model+optimizer with best L2 Scorehttp://localhost:8888/notebooks/train_chong.ipynb#\n",
        "    #if scores[1] < best_l2:\n",
        "    #    best_l2 = scores[1]\n",
        "    #    save_path = './saved_models/chong_gooreal_notrained/'\n",
        "    #    save_checkpoint(net, optimizer, 420, save_path)"
      ]
    },
    {
      "cell_type": "code",
      "execution_count": null,
      "metadata": {
        "id": "wx_fRfvzV4Fh"
      },
      "outputs": [],
      "source": [
        "test(net, test_data_loader,logger, save_output=True)"
      ]
    },
    {
      "cell_type": "code",
      "execution_count": null,
      "metadata": {
        "id": "UfVIhFX0FaBX"
      },
      "outputs": [],
      "source": [
        "test(net, test_data_loader,logger, save_output=True)"
      ]
    },
    {
      "cell_type": "code",
      "execution_count": null,
      "metadata": {
        "id": "lpS6MzZaJ5kb"
      },
      "outputs": [],
      "source": [
        "state = {'epoch': 5, 'state_dict': net.state_dict(),\n",
        "                 'optimizer': optimizer.state_dict(), 'logger': logger, }\n",
        "torch.save(state, 'Chong_RetailGaze.pt')                 "
      ]
    },
    {
      "cell_type": "code",
      "execution_count": null,
      "metadata": {
        "id": "fDDUJvJDdAuX"
      },
      "outputs": [],
      "source": [
        "torch.save(net.state_dict(), 'Chong_RetailGaze2.pt')"
      ]
    },
    {
      "cell_type": "code",
      "execution_count": null,
      "metadata": {
        "id": "YWmy1pOxKljS"
      },
      "outputs": [],
      "source": [
        "!pwd"
      ]
    },
    {
      "cell_type": "code",
      "execution_count": null,
      "metadata": {
        "id": "mhq_wb9GWDlg"
      },
      "outputs": [],
      "source": [
        "!cp /content/RetailGazeDataset/retailgaze/Chong_RetailGaze_5.pt /content/drive/MyDrive/checkpoints/Chong_RetailGaze_5.pt"
      ]
    },
    {
      "cell_type": "code",
      "execution_count": null,
      "metadata": {
        "id": "P5rZjTlhdTQA"
      },
      "outputs": [],
      "source": [
        "!cp /content/RetailGazeDataset/retailgaze/Chong_RetailGaze2.pt /content/drive/MyDrive/checkpoints/Chong_RetailGaze2.pt"
      ]
    },
    {
      "cell_type": "markdown",
      "metadata": {
        "id": "j2BtkuZwbHLg"
      },
      "source": [
        "# Recasens"
      ]
    },
    {
      "cell_type": "code",
      "execution_count": null,
      "metadata": {
        "id": "sY96KRLfbKn7"
      },
      "outputs": [],
      "source": [
        "import torch\n",
        "from torch.utils.data import Dataset, DataLoader\n",
        "from torchvision import transforms\n",
        "from torch.autograd import Variable\n",
        "import torch.optim as optim\n",
        "import torch.nn as nn\n",
        "import torch.nn.functional as F\n",
        "from torch.nn import DataParallel\n",
        "\n",
        "import time\n",
        "import os\n",
        "import numpy as np\n",
        "import json\n",
        "import cv2\n",
        "from PIL import Image, ImageOps\n",
        "import random\n",
        "from tqdm import tqdm\n",
        "import operator\n",
        "import itertools\n",
        "from scipy.io import  loadmat\n",
        "import logging\n",
        "from scipy import signal\n",
        "\n",
        "from utils import data_transforms\n",
        "from utils import get_paste_kernel, kernel_map\n",
        "from utils_logging import setup_logger"
      ]
    },
    {
      "cell_type": "code",
      "execution_count": null,
      "metadata": {
        "id": "LLf3KUNQbMmn"
      },
      "outputs": [],
      "source": [
        "from models.recasens import GazeNet\n",
        "from dataloader.recasens import GooDataset, GazeDataset, RetailGaze\n",
        "from models.__init__ import save_checkpoint, resume_checkpoint\n",
        "from training.train_recasens import train, test, GazeOptimizer"
      ]
    },
    {
      "cell_type": "code",
      "execution_count": null,
      "metadata": {
        "id": "aW-QwkB1bMjS"
      },
      "outputs": [],
      "source": [
        "# Logger will save the training and test errors to a .log file \n",
        "logger = setup_logger(name='first_logger', \n",
        "                      log_dir ='./logs/',\n",
        "                      log_file='train_recasens_newauc.log',\n",
        "                      log_format = '%(asctime)s %(levelname)s %(message)s',\n",
        "                      verbose=True)"
      ]
    },
    {
      "cell_type": "code",
      "execution_count": null,
      "metadata": {
        "id": "rGTvNR0NbMcQ"
      },
      "outputs": [],
      "source": [
        "# Dataloaders for GazeFollow\n",
        "batch_size=32\n",
        "workers=0\n",
        "testbatchsize=batch_size\n",
        "\n",
        "images_dir = '/content/drive/MyDrive/RetailGaze/RetailGaze_V2/'\n",
        "pickle_path = '/content/drive/MyDrive/RetailGaze/RetailGaze_V3_train.pickle'\n",
        "test_images_dir = '/content/drive/MyDrive/RetailGaze/RetailGaze_V2/'\n",
        "test_pickle_path = '/content/drive/MyDrive/RetailGaze/RetailGaze_V3_test.pickle'\n",
        "\n",
        "train_set = RetailGaze(images_dir, pickle_path, 'train')\n",
        "train_data_loader = torch.utils.data.DataLoader(train_set, batch_size=batch_size, shuffle=True, num_workers=workers)\n",
        "\n",
        "val_set = RetailGaze(test_images_dir, test_pickle_path, 'test')\n",
        "test_data_loader = torch.utils.data.DataLoader(val_set, batch_size=testbatchsize, num_workers=workers, shuffle=False)"
      ]
    },
    {
      "cell_type": "code",
      "execution_count": null,
      "metadata": {
        "id": "zUWals7BbMYI"
      },
      "outputs": [],
      "source": [
        "# Loads model\n",
        "\n",
        "net = GazeNet(placesmodel_path='/content/drive/MyDrive/whole_alexnet_places365.pth')\n",
        "net.cuda()\n",
        "\n",
        "# Hyperparameters\n",
        "start_epoch = 0\n",
        "max_epoch = 5\n",
        "learning_rate = 1e-4\n",
        "\n",
        "# Initializes Optimizer\n",
        "gaze_opt = GazeOptimizer(net, learning_rate)\n",
        "optimizer = gaze_opt.getOptimizer(start_epoch)\n",
        "\n",
        "# Is training resumed? If so, set the resume_path and set flag to True\n",
        "resume_training = False\n",
        "resume_path = './saved_models/completed/recasens_goo_epoch4.pth.tar'\n",
        "if resume_training :\n",
        "    net, optimizer, _ = resume_checkpoint(net, optimizer, resume_path)\n",
        "    test(net, test_data_loader,logger, save_output=True)"
      ]
    },
    {
      "cell_type": "code",
      "execution_count": null,
      "metadata": {
        "id": "XHf4qTprbMTL"
      },
      "outputs": [],
      "source": [
        "test(net, test_data_loader,logger, save_output=True)"
      ]
    },
    {
      "cell_type": "code",
      "execution_count": null,
      "metadata": {
        "colab": {
          "background_save": true
        },
        "id": "Y3YkBsa-cnmw",
        "outputId": "79a8a5a5-fb40-43a1-ca31-e13d302db533"
      },
      "outputs": [
        {
          "name": "stderr",
          "output_type": "stream",
          "text": [
            "100%|██████████| 86/86 [03:27<00:00,  2.42s/it]\n",
            "100%|██████████| 19/19 [00:44<00:00,  2.35s/it]\n"
          ]
        },
        {
          "name": "stdout",
          "output_type": "stream",
          "text": [
            "[0.7703028931658793, 0.24723301350202148, 41.085396918999976]\n"
          ]
        },
        {
          "name": "stderr",
          "output_type": "stream",
          "text": [
            "100%|██████████| 86/86 [03:27<00:00,  2.41s/it]\n",
            "100%|██████████| 19/19 [00:44<00:00,  2.34s/it]\n"
          ]
        },
        {
          "name": "stdout",
          "output_type": "stream",
          "text": [
            "[0.8183717138291812, 0.2271403062333321, 36.36415428848948]\n"
          ]
        },
        {
          "name": "stderr",
          "output_type": "stream",
          "text": [
            "100%|██████████| 86/86 [03:27<00:00,  2.41s/it]\n",
            "100%|██████████| 19/19 [00:44<00:00,  2.35s/it]\n"
          ]
        },
        {
          "name": "stdout",
          "output_type": "stream",
          "text": [
            "[0.8082238703720251, 0.23115639951216474, 40.0664788424925]\n"
          ]
        },
        {
          "name": "stderr",
          "output_type": "stream",
          "text": [
            "100%|██████████| 86/86 [03:27<00:00,  2.41s/it]\n",
            "100%|██████████| 19/19 [00:44<00:00,  2.34s/it]\n"
          ]
        },
        {
          "name": "stdout",
          "output_type": "stream",
          "text": [
            "[0.8038225321230673, 0.2410255134900663, 35.8729475759747]\n"
          ]
        },
        {
          "name": "stderr",
          "output_type": "stream",
          "text": [
            "100%|██████████| 86/86 [03:27<00:00,  2.41s/it]\n",
            "100%|██████████| 19/19 [00:44<00:00,  2.36s/it]\n"
          ]
        },
        {
          "name": "stdout",
          "output_type": "stream",
          "text": [
            "[0.774930507714052, 0.2619240138277242, 47.49174073947159]\n"
          ]
        },
        {
          "name": "stderr",
          "output_type": "stream",
          "text": [
            "100%|██████████| 86/86 [03:27<00:00,  2.42s/it]\n",
            "100%|██████████| 19/19 [00:45<00:00,  2.37s/it]\n"
          ]
        },
        {
          "name": "stdout",
          "output_type": "stream",
          "text": [
            "[0.7655631013016412, 0.27260035818045575, 39.54433202156274]\n"
          ]
        },
        {
          "name": "stderr",
          "output_type": "stream",
          "text": [
            "100%|██████████| 86/86 [03:27<00:00,  2.41s/it]\n",
            "100%|██████████| 19/19 [00:44<00:00,  2.33s/it]\n"
          ]
        },
        {
          "name": "stdout",
          "output_type": "stream",
          "text": [
            "[0.7852815674654077, 0.25327009647916493, 38.287689877027724]\n"
          ]
        },
        {
          "name": "stderr",
          "output_type": "stream",
          "text": [
            "100%|██████████| 86/86 [03:27<00:00,  2.41s/it]\n",
            "100%|██████████| 19/19 [00:44<00:00,  2.34s/it]\n"
          ]
        },
        {
          "name": "stdout",
          "output_type": "stream",
          "text": [
            "[0.7300980146296515, 0.27527635916826165, 42.915481159436624]\n"
          ]
        },
        {
          "name": "stderr",
          "output_type": "stream",
          "text": [
            "100%|██████████| 86/86 [03:27<00:00,  2.41s/it]\n",
            "100%|██████████| 19/19 [00:44<00:00,  2.34s/it]\n"
          ]
        },
        {
          "name": "stdout",
          "output_type": "stream",
          "text": [
            "[0.7919419454765398, 0.2466336939701324, 38.273753436674276]\n"
          ]
        },
        {
          "name": "stderr",
          "output_type": "stream",
          "text": [
            "100%|██████████| 86/86 [03:26<00:00,  2.40s/it]\n",
            "100%|██████████| 19/19 [00:44<00:00,  2.36s/it]\n"
          ]
        },
        {
          "name": "stdout",
          "output_type": "stream",
          "text": [
            "[0.7775063823368048, 0.25541907917999246, 40.62019346553928]\n"
          ]
        },
        {
          "name": "stderr",
          "output_type": "stream",
          "text": [
            "100%|██████████| 86/86 [03:33<00:00,  2.48s/it]\n",
            "100%|██████████| 19/19 [00:45<00:00,  2.38s/it]\n"
          ]
        },
        {
          "name": "stdout",
          "output_type": "stream",
          "text": [
            "[0.7465895213415542, 0.2750001798212303, 42.521110490097655]\n"
          ]
        },
        {
          "name": "stderr",
          "output_type": "stream",
          "text": [
            "100%|██████████| 86/86 [03:30<00:00,  2.45s/it]\n",
            "100%|██████████| 19/19 [00:45<00:00,  2.39s/it]\n"
          ]
        },
        {
          "name": "stdout",
          "output_type": "stream",
          "text": [
            "[0.7610692828242358, 0.2610156091741441, 40.61747158775497]\n"
          ]
        },
        {
          "name": "stderr",
          "output_type": "stream",
          "text": [
            "100%|██████████| 86/86 [03:30<00:00,  2.45s/it]\n",
            "100%|██████████| 19/19 [00:45<00:00,  2.38s/it]\n"
          ]
        },
        {
          "name": "stdout",
          "output_type": "stream",
          "text": [
            "[0.7650482146271533, 0.2592460911221292, 41.19366877946314]\n"
          ]
        },
        {
          "name": "stderr",
          "output_type": "stream",
          "text": [
            "100%|██████████| 86/86 [03:30<00:00,  2.45s/it]\n",
            "100%|██████████| 19/19 [00:45<00:00,  2.39s/it]\n"
          ]
        },
        {
          "name": "stdout",
          "output_type": "stream",
          "text": [
            "[0.7870820494195123, 0.25278392044764425, 38.11508100163051]\n"
          ]
        },
        {
          "name": "stderr",
          "output_type": "stream",
          "text": [
            " 24%|██▍       | 21/86 [00:51<02:37,  2.43s/it]"
          ]
        }
      ],
      "source": [
        "best_l2 = np.inf\n",
        "\n",
        "for epoch in range(1,2):\n",
        "    \n",
        "    # Update optimizer\n",
        "    optimizer = gaze_opt.getOptimizer(epoch)\n",
        "\n",
        "    # Train model\n",
        "    train(net, train_data_loader, optimizer, epoch, logger)\n",
        "    \n",
        "    # Evaluate model\n",
        "    # if epoch+1 in [1,5]:\n",
        "    #     scores = test(net, test_data_loader, logger, save_output=True)\n",
        "    \n",
        "    # Save model+optimizer with best L2 Score\n",
        "    #if scores[1] < best_l2:\n",
        "    #    best_l2 = scores[1]\n",
        "    #    save_path = './saved_models/recasens_gooreal_notrain/'\n",
        "    #    save_checkpoint(net, optimizer, 0, save_path)"
      ]
    },
    {
      "cell_type": "code",
      "execution_count": null,
      "metadata": {
        "id": "BaXCzzLlc_zV"
      },
      "outputs": [],
      "source": [
        "test(net, test_data_loader,logger, save_output=True)"
      ]
    },
    {
      "cell_type": "code",
      "execution_count": null,
      "metadata": {
        "id": "-icPfEafdNBh"
      },
      "outputs": [],
      "source": [
        "best_l2 = np.inf\n",
        "\n",
        "for epoch in range(1,6):\n",
        "    \n",
        "    # Update optimizer\n",
        "    optimizer = gaze_opt.getOptimizer(epoch)\n",
        "\n",
        "    # Train model\n",
        "    train(net, train_data_loader, optimizer, epoch, logger)\n",
        "    \n",
        "    # Evaluate model\n",
        "    # if epoch+1 in [1,5]:\n",
        "    #     scores = test(net, test_data_loader, logger, save_output=True)\n",
        "    \n",
        "    # Save model+optimizer with best L2 Score\n",
        "    #if scores[1] < best_l2:\n",
        "    #    best_l2 = scores[1]\n",
        "    #    save_path = './saved_models/recasens_gooreal_notrain/'\n",
        "    #    save_checkpoint(net, optimizer, 0, save_path)"
      ]
    },
    {
      "cell_type": "code",
      "execution_count": null,
      "metadata": {
        "id": "tnN8VlHpdPkG"
      },
      "outputs": [],
      "source": [
        "test(net, test_data_loader,logger, save_output=True)"
      ]
    },
    {
      "cell_type": "markdown",
      "metadata": {
        "id": "bR9IwKvak1sq"
      },
      "source": [
        "# Lian"
      ]
    },
    {
      "cell_type": "code",
      "execution_count": null,
      "metadata": {
        "id": "Gsr2EUk2k07o"
      },
      "outputs": [],
      "source": [
        "import torch\n",
        "from torch.utils.data import Dataset, DataLoader\n",
        "from torchvision import transforms\n",
        "from torch.autograd import Variable\n",
        "import torch.optim as optim\n",
        "import torch.nn as nn\n",
        "import torch.nn.functional as F\n",
        "from torch.nn import DataParallel\n",
        "\n",
        "import time\n",
        "import os\n",
        "import numpy as np\n",
        "import json\n",
        "import cv2\n",
        "from PIL import Image, ImageOps\n",
        "import random\n",
        "from tqdm import tqdm\n",
        "import operator\n",
        "import itertools\n",
        "from scipy.io import  loadmat\n",
        "import logging\n",
        "from scipy import signal\n",
        "\n",
        "from utils import data_transforms\n",
        "from utils import get_paste_kernel, kernel_map\n",
        "from utils_logging import setup_logger"
      ]
    },
    {
      "cell_type": "code",
      "execution_count": null,
      "metadata": {
        "id": "JyQyZY8zk6A7"
      },
      "outputs": [],
      "source": [
        "from models.gazenet import GazeNet\n",
        "from models.__init__ import save_checkpoint, resume_checkpoint\n",
        "from dataloader.gazenet import GooDataset, GazeDataset, RetailGaze\n",
        "from training.train_gazenet import train, test, GazeOptimizer"
      ]
    },
    {
      "cell_type": "code",
      "execution_count": null,
      "metadata": {
        "id": "3-3BvqFTk9iP"
      },
      "outputs": [],
      "source": [
        "# Logger will save the training and test errors to a .log file \n",
        "logger = setup_logger(name='first_logger', \n",
        "                      log_dir ='./logs/',\n",
        "                      log_file='train_gazenet_gooreal_.log',\n",
        "                      log_format = '%(asctime)s %(levelname)s %(message)s',\n",
        "                      verbose=True)"
      ]
    },
    {
      "cell_type": "code",
      "execution_count": null,
      "metadata": {
        "id": "yak56ULtk9ex"
      },
      "outputs": [],
      "source": [
        "# Dataloaders for GOO-Synth\n",
        "batch_size=32\n",
        "workers=1\n",
        "testbatchsize=32\n",
        "\n",
        "images_dir = '/content/drive/MyDrive/RetailGaze/RetailGaze_V2/'\n",
        "pickle_path = '/content/drive/MyDrive/RetailGaze/RetailGaze_V3_train.pickle'\n",
        "test_images_dir = '/content/drive/MyDrive/RetailGaze/RetailGaze_V2/'\n",
        "test_pickle_path = '/content/drive/MyDrive/RetailGaze/RetailGaze_V3_test.pickle'\n",
        "\n",
        "\n",
        "train_set = RetailGaze(images_dir, pickle_path, 'train')\n",
        "train_data_loader = torch.utils.data.DataLoader(train_set, batch_size=batch_size, shuffle=True, num_workers=workers)\n",
        "\n",
        "val_set = RetailGaze(test_images_dir, test_pickle_path, 'test')\n",
        "test_data_loader = torch.utils.data.DataLoader(val_set, batch_size=testbatchsize, num_workers=workers, shuffle=False)"
      ]
    },
    {
      "cell_type": "code",
      "execution_count": null,
      "metadata": {
        "id": "Lwg1-kxuk9bo"
      },
      "outputs": [],
      "source": [
        "# Loads model\n",
        "net = GazeNet()\n",
        "net.cuda()\n",
        "\n",
        "# Hyperparameters\n",
        "start_epoch = 0\n",
        "max_epoch = 30\n",
        "learning_rate = 1e-4\n",
        "\n",
        "# Initializes Optimizer\n",
        "gaze_opt = GazeOptimizer(net, learning_rate)\n",
        "optimizer = gaze_opt.getOptimizer(start_epoch)\n",
        "\n",
        "# Is training resumed? If so, set the resume_path and set flag to True\n",
        "# This can also be used to evaluate a model \n",
        "resume_training = False\n",
        "resume_path = './saved_models/goosynth_pretrain/lian.pth.tar'\n",
        "if resume_training :\n",
        "    net, optimizer, _ = resume_checkpoint(net, optimizer, resume_path)\n",
        "    scores = test(net, test_data_loader,logger, save_output=True)\n",
        "    #print('L2 Distance: ', scores[1])"
      ]
    },
    {
      "cell_type": "code",
      "execution_count": null,
      "metadata": {
        "id": "eEFxb24SlPRO"
      },
      "outputs": [],
      "source": [
        "test(net, test_data_loader,logger, save_output=True)"
      ]
    },
    {
      "cell_type": "code",
      "execution_count": null,
      "metadata": {
        "id": "SAh7apN7l9lf"
      },
      "outputs": [],
      "source": [
        "best_l2 = np.inf\n",
        "\n",
        "for epoch in range(1, 2):\n",
        "    \n",
        "    # Update optimizer\n",
        "    optimizer = gaze_opt.getOptimizer(epoch)\n",
        "\n",
        "    # Train model\n",
        "    train(net, train_data_loader, optimizer, epoch, logger)\n",
        "    \n",
        "    # Evaluate model\n",
        "    #scores = test(net, test_data_loader, logger)\n",
        "    \n",
        "    # Save model+optimizer with best L2 Score\n",
        "    #if scores[1] < best_l2:\n",
        "    #    best_l2 = scores[1]\n",
        "    #    save_path = './saved_models/gazenet_gooreal_notrain/'\n",
        "    #    save_checkpoint(net, optimizer, 420, save_path)"
      ]
    },
    {
      "cell_type": "code",
      "execution_count": null,
      "metadata": {
        "id": "f-mcNHaNmB76"
      },
      "outputs": [],
      "source": [
        "test(net, test_data_loader,logger, save_output=True)"
      ]
    },
    {
      "cell_type": "code",
      "execution_count": null,
      "metadata": {
        "id": "nUpOceujmZsO"
      },
      "outputs": [],
      "source": [
        "best_l2 = np.inf\n",
        "\n",
        "for epoch in range(1, 6):\n",
        "    \n",
        "    # Update optimizer\n",
        "    optimizer = gaze_opt.getOptimizer(epoch)\n",
        "\n",
        "    # Train model\n",
        "    train(net, train_data_loader, optimizer, epoch, logger)\n",
        "    \n",
        "    # Evaluate model\n",
        "    #scores = test(net, test_data_loader, logger)\n",
        "    \n",
        "    # Save model+optimizer with best L2 Score\n",
        "    #if scores[1] < best_l2:\n",
        "    #    best_l2 = scores[1]\n",
        "    #    save_path = './saved_models/gazenet_gooreal_notrain/'\n",
        "    #    save_checkpoint(net, optimizer, 420, save_path)"
      ]
    },
    {
      "cell_type": "code",
      "execution_count": null,
      "metadata": {
        "id": "_8xJgxT5nl7G"
      },
      "outputs": [],
      "source": [
        "test(net, test_data_loader,logger, save_output=True)"
      ]
    },
    {
      "cell_type": "markdown",
      "metadata": {
        "id": "ia4xyPBKsvjm"
      },
      "source": [
        "# Face3D"
      ]
    },
    {
      "cell_type": "code",
      "execution_count": null,
      "metadata": {
        "id": "bism6f4usoCc"
      },
      "outputs": [],
      "source": [
        "import torch\n",
        "from torchvision import transforms\n",
        "import torch.nn as nn\n",
        "from torch.utils.data import Dataset, DataLoader\n",
        "\n",
        "import argparse\n",
        "import os\n",
        "from datetime import datetime\n",
        "import shutil\n",
        "import numpy as np\n",
        "\n",
        "from sklearn.metrics import roc_auc_score\n",
        "from sklearn.metrics import average_precision_score\n",
        "import cv2\n",
        "\n",
        "from utils_logging import setup_logger"
      ]
    },
    {
      "cell_type": "code",
      "execution_count": null,
      "metadata": {
        "id": "ffJLL3lntmDc"
      },
      "outputs": [],
      "source": [
        "!pip install git+https://github.com/zhanghang1989/ResNeSt\n",
        "!pip install timm"
      ]
    },
    {
      "cell_type": "code",
      "execution_count": null,
      "metadata": {
        "id": "L7xG8fMftHhB"
      },
      "outputs": [],
      "source": [
        "from models.face3D import Face3D\n",
        "from models.__init__ import save_checkpoint, resume_checkpoint\n",
        "from dataloader.face3D import RetailGaze\n",
        "from dataloader import chong_imutils\n",
        "from training.face3D import train_face3d, test_face3d, GazeOptimizer"
      ]
    },
    {
      "cell_type": "code",
      "execution_count": null,
      "metadata": {
        "id": "N_fOgHbftBeh"
      },
      "outputs": [],
      "source": [
        "# Logger will save the training and test errors to a .log file \n",
        "logger = setup_logger(name='first_logger',\n",
        "                      log_dir ='./logs/',\n",
        "                      log_file='train_chong_gooreal.log',\n",
        "                      log_format = '%(asctime)s %(levelname)s %(message)s',\n",
        "                      verbose=True)"
      ]
    },
    {
      "cell_type": "code",
      "execution_count": null,
      "metadata": {
        "id": "YO6QSdLVtBXT"
      },
      "outputs": [],
      "source": [
        "# Dataloaders for GOO-Synth\n",
        "batch_size=32\n",
        "workers=12\n",
        "\n",
        "images_dir = '/content/drive/MyDrive/RetailGaze/RetailGaze_V2/'\n",
        "pickle_path = '/content/drive/MyDrive/RetailGaze/RetailGaze_V3_train.pickle'\n",
        "test_images_dir = '/content/drive/MyDrive/RetailGaze/RetailGaze_V2/'\n",
        "test_pickle_path = '/content/drive/MyDrive/RetailGaze/RetailGaze_V3_test.pickle'\n",
        "\n",
        "train_set = RetailGaze(images_dir, pickle_path, 'train')\n",
        "train_data_loader = DataLoader(dataset=train_set,\n",
        "                                           batch_size=batch_size,\n",
        "                                           shuffle=True,\n",
        "                                           num_workers=16)\n",
        "\n",
        "test_set = RetailGaze(test_images_dir, test_pickle_path, 'test')\n",
        "test_data_loader = DataLoader(test_set, batch_size=batch_size//2,\n",
        "                            shuffle=False, num_workers=8)"
      ]
    },
    {
      "cell_type": "code",
      "execution_count": null,
      "metadata": {
        "id": "XPpw5aZCtBQ6"
      },
      "outputs": [],
      "source": [
        "net = Face3D()\n",
        "net.cuda()\n",
        "start_epoch = 0\n",
        "max_epoch = 5\n",
        "learning_rate = 3e-4\n",
        "gaze_opt = GazeOptimizer(net, learning_rate)\n",
        "optimizer = gaze_opt.getOptimizer(start_epoch)\n",
        "\n"
      ]
    },
    {
      "cell_type": "code",
      "execution_count": null,
      "metadata": {
        "id": "3ZjB0-rutBLP"
      },
      "outputs": [],
      "source": [
        "test_face3d(net, test_data_loader,logger, save_output=True)"
      ]
    },
    {
      "cell_type": "markdown",
      "metadata": {
        "id": "HPI7CSHCjcdh"
      },
      "source": [
        "# Hypo"
      ]
    },
    {
      "cell_type": "code",
      "execution_count": null,
      "metadata": {
        "id": "RXD6OE95tBIG"
      },
      "outputs": [],
      "source": [
        "import torch\n",
        "from torchvision import transforms\n",
        "import torch.nn as nn\n",
        "from torch.utils.data import Dataset, DataLoader\n",
        "\n",
        "import argparse\n",
        "import os\n",
        "from datetime import datetime\n",
        "import shutil\n",
        "import numpy as np\n",
        "\n",
        "from sklearn.metrics import roc_auc_score\n",
        "from sklearn.metrics import average_precision_score\n",
        "import cv2\n",
        "\n",
        "from utils_logging import setup_logger"
      ]
    },
    {
      "cell_type": "code",
      "execution_count": null,
      "metadata": {
        "colab": {
          "base_uri": "https://localhost:8080/"
        },
        "id": "sR2duKUFkwVe",
        "outputId": "9be960d8-0c81-49a1-caf5-44bcd411df07"
      },
      "outputs": [
        {
          "name": "stdout",
          "output_type": "stream",
          "text": [
            "Requirement already satisfied: pytorchcvtcolor in /usr/local/lib/python3.7/dist-packages (0.1.dev1)\n"
          ]
        }
      ],
      "source": [
        "!pip install pytorchcvtcolor"
      ]
    },
    {
      "cell_type": "code",
      "execution_count": null,
      "metadata": {
        "id": "VyghGr_YtBFC"
      },
      "outputs": [],
      "source": [
        "from models.hypo import Shashimal2_VGG\n",
        "from models.__init__ import save_checkpoint, resume_checkpoint\n",
        "from dataloader.hypo import RetailGaze\n",
        "from dataloader import chong_imutils\n",
        "from training.train_hypo import train, test, GazeOptimizer"
      ]
    },
    {
      "cell_type": "code",
      "execution_count": null,
      "metadata": {
        "id": "n-Q8wns2tBB8"
      },
      "outputs": [],
      "source": [
        "# Logger will save the training and test errors to a .log file \n",
        "logger = setup_logger(name='first_logger',\n",
        "                      log_dir ='./logs/',\n",
        "                      log_file='train_chong_gooreal.log',\n",
        "                      log_format = '%(asctime)s %(levelname)s %(message)s',\n",
        "                      verbose=True)"
      ]
    },
    {
      "cell_type": "code",
      "execution_count": null,
      "metadata": {
        "colab": {
          "base_uri": "https://localhost:8080/"
        },
        "id": "8Y4x28zttA9R",
        "outputId": "ce2d81e5-ad67-4136-c4a3-1d0069d17ab6"
      },
      "outputs": [
        {
          "name": "stdout",
          "output_type": "stream",
          "text": [
            "Number of Images: 2728\n",
            "Number of Images: 609\n",
            "Number of Images: 585\n"
          ]
        },
        {
          "name": "stderr",
          "output_type": "stream",
          "text": [
            "/usr/local/lib/python3.7/dist-packages/torch/utils/data/dataloader.py:481: UserWarning: This DataLoader will create 16 worker processes in total. Our suggested max number of worker in current system is 4, which is smaller than what this DataLoader is going to create. Please be aware that excessive worker creation might get DataLoader running slow or even freeze, lower the worker number to avoid potential slowness/freeze if necessary.\n",
            "  cpuset_checked))\n",
            "/usr/local/lib/python3.7/dist-packages/torch/utils/data/dataloader.py:481: UserWarning: This DataLoader will create 8 worker processes in total. Our suggested max number of worker in current system is 4, which is smaller than what this DataLoader is going to create. Please be aware that excessive worker creation might get DataLoader running slow or even freeze, lower the worker number to avoid potential slowness/freeze if necessary.\n",
            "  cpuset_checked))\n"
          ]
        }
      ],
      "source": [
        "# Dataloaders for GOO-Synth\n",
        "batch_size=32\n",
        "workers=12\n",
        "\n",
        "images_dir = '/content/drive/MyDrive/RetailGaze/RetailGaze_V2/'\n",
        "pickle_path = '/content/drive/MyDrive/RetailGaze/RetailGaze_V3_train2.pickle'\n",
        "test_images_dir = '/content/drive/MyDrive/RetailGaze/RetailGaze_V2/'\n",
        "test_pickle_path = '/content/drive/MyDrive/RetailGaze/RetailGaze_V3_test2.pickle'\n",
        "val_images_dir = '/content/drive/MyDrive/RetailGaze/RetailGaze_V2/'\n",
        "val_pickle_path = '/content/drive/MyDrive/RetailGaze/RetailGaze_V3_valid2.pickle'\n",
        "\n",
        "train_set = RetailGaze(images_dir, pickle_path, 'train')\n",
        "train_data_loader = DataLoader(dataset=train_set,\n",
        "                                           batch_size=batch_size,\n",
        "                                           shuffle=True,\n",
        "                                           num_workers=16)\n",
        "\n",
        "test_set = RetailGaze(test_images_dir, test_pickle_path, 'test')\n",
        "test_data_loader = DataLoader(test_set, batch_size=1,\n",
        "                            shuffle=False, num_workers=4)\n",
        "\n",
        "val_set = RetailGaze(val_images_dir, val_pickle_path, 'train')\n",
        "val_data_loader = DataLoader(val_set, batch_size=batch_size//2,\n",
        "                            shuffle=False, num_workers=8)"
      ]
    },
    {
      "cell_type": "code",
      "execution_count": null,
      "metadata": {
        "colab": {
          "base_uri": "https://localhost:8080/"
        },
        "id": "dYNiSO7UtAyF",
        "outputId": "69ba71c4-02f5-4250-9a61-d11d9a5670ef"
      },
      "outputs": [
        {
          "name": "stdout",
          "output_type": "stream",
          "text": [
            "23\n"
          ]
        }
      ],
      "source": [
        "import gc\n",
        "\n",
        "gc.collect()\n",
        "\n",
        "torch.cuda.empty_cache()\n",
        "\n",
        "\n",
        "device = torch.device(\"cuda:0\" if torch.cuda.is_available() else \"cpu\")\n",
        "model_ft = Shashimal2_VGG()\n",
        "\n",
        "\n",
        "model_ft = model_ft.to(device)\n",
        "\n",
        "criterion = nn.NLLLoss().cuda()\n",
        "# criterion =\n",
        "\n",
        "# Observe that all parameters are being optimized\n",
        "start_epoch = 0\n",
        "max_epoch = 5\n",
        "learning_rate = 1e-4\n",
        "\n",
        "# Initializes Optimizer\n",
        "gaze_opt = GazeOptimizer(model_ft, learning_rate)\n",
        "optimizer = gaze_opt.getOptimizer(start_epoch)"
      ]
    },
    {
      "cell_type": "code",
      "execution_count": null,
      "metadata": {
        "id": "ruJAzFBqrNRw"
      },
      "outputs": [],
      "source": [
        "from torch.utils.tensorboard import SummaryWriter\n",
        "\n",
        "# default `log_dir` is \"runs\" - we'll be more specific here\n",
        "writer = SummaryWriter('runs/shashimal2')\n",
        "\n",
        "%reload_ext tensorboard\n",
        "%tensorboard --logdir=\"runs/\" "
      ]
    },
    {
      "cell_type": "code",
      "execution_count": null,
      "metadata": {
        "colab": {
          "base_uri": "https://localhost:8080/",
          "height": 164
        },
        "id": "rCYIwdbnrFqQ",
        "outputId": "e58b752a-a02f-4ee6-c2e9-69b9eb6ab117"
      },
      "outputs": [
        {
          "ename": "NameError",
          "evalue": "ignored",
          "output_type": "error",
          "traceback": [
            "\u001b[0;31m---------------------------------------------------------------------------\u001b[0m",
            "\u001b[0;31mNameError\u001b[0m                                 Traceback (most recent call last)",
            "\u001b[0;32m<ipython-input-9-68fb51575196>\u001b[0m in \u001b[0;36m<module>\u001b[0;34m()\u001b[0m\n\u001b[0;32m----> 1\u001b[0;31m \u001b[0mmodel_ft\u001b[0m \u001b[0;34m=\u001b[0m \u001b[0mtrain\u001b[0m\u001b[0;34m(\u001b[0m\u001b[0mmodel_ft\u001b[0m\u001b[0;34m,\u001b[0m \u001b[0mtrain_data_loader\u001b[0m\u001b[0;34m,\u001b[0m \u001b[0mval_data_loader\u001b[0m\u001b[0;34m,\u001b[0m \u001b[0mcriterion\u001b[0m\u001b[0;34m,\u001b[0m \u001b[0moptimizer\u001b[0m\u001b[0;34m,\u001b[0m \u001b[0mlogger\u001b[0m\u001b[0;34m,\u001b[0m \u001b[0mwriter\u001b[0m\u001b[0;34m,\u001b[0m\u001b[0mnum_epochs\u001b[0m\u001b[0;34m=\u001b[0m\u001b[0;36m20\u001b[0m\u001b[0;34m,\u001b[0m \u001b[0mpatience\u001b[0m\u001b[0;34m=\u001b[0m\u001b[0;36m10\u001b[0m\u001b[0;34m)\u001b[0m\u001b[0;34m\u001b[0m\u001b[0;34m\u001b[0m\u001b[0m\n\u001b[0m",
            "\u001b[0;31mNameError\u001b[0m: name 'model_ft' is not defined"
          ]
        }
      ],
      "source": [
        "model_ft = train(model_ft, train_data_loader, val_data_loader, criterion, optimizer, logger, writer,num_epochs=20, patience=10)"
      ]
    },
    {
      "cell_type": "code",
      "execution_count": null,
      "metadata": {
        "id": "spLq4dXbliOl"
      },
      "outputs": [],
      "source": [
        "if True:\n",
        "    checkpoint_fpath = '/content/drive/MyDrive/shashimal2_goo_new_9.pt'\n",
        "    checkpoint = torch.load(checkpoint_fpath)\n",
        "    model_ft.load_state_dict(checkpoint['state_dict'])\n",
        "    optimizer.load_state_dict(checkpoint['optimizer'])\n"
      ]
    },
    {
      "cell_type": "code",
      "execution_count": null,
      "metadata": {
        "colab": {
          "base_uri": "https://localhost:8080/"
        },
        "id": "_xmweojaipb5",
        "outputId": "f56470e8-0c62-4a0e-d734-035901a6b10f"
      },
      "outputs": [
        {
          "name": "stderr",
          "output_type": "stream",
          "text": [
            "proximate accuracy: [0.01313629 0.05747126 0.13464696 0.408867   0.66502463 0.77175698\n",
            " 0.87192118 0.93267652]\n",
            "average error: [0.9444069211777723, 0.14184186289551515, 11.233993243353616]\n"
          ]
        },
        {
          "data": {
            "text/plain": [
              "[0.9444069211777723, 0.14184186289551515, 11.233993243353616]"
            ]
          },
          "execution_count": 11,
          "metadata": {},
          "output_type": "execute_result"
        }
      ],
      "source": [
        "test(model_ft, test_data_loader, logger)"
      ]
    },
    {
      "cell_type": "code",
      "execution_count": null,
      "metadata": {
        "id": "OEIv3_cHoFWe"
      },
      "outputs": [],
      "source": [
        "import torch\n",
        "from torchvision import transforms\n",
        "import torch.nn as nn\n",
        "from torch.utils.data import Dataset, DataLoader\n",
        "\n",
        "import argparse\n",
        "import os\n",
        "from datetime import datetime\n",
        "import shutil\n",
        "import numpy as np\n",
        "\n",
        "from sklearn.metrics import roc_auc_score\n",
        "from sklearn.metrics import average_precision_score\n",
        "import cv2\n",
        "\n",
        "from utils_logging import setup_logger"
      ]
    },
    {
      "cell_type": "code",
      "execution_count": null,
      "metadata": {
        "colab": {
          "base_uri": "https://localhost:8080/"
        },
        "id": "4Zl6oHl5oSl4",
        "outputId": "decaab1d-1b23-4d72-efb8-357b46610035"
      },
      "outputs": [
        {
          "name": "stdout",
          "output_type": "stream",
          "text": [
            "Collecting pytorchcvtcolor\n",
            "  Downloading pytorchcvtcolor-0.1.dev1-py3-none-any.whl (6.4 kB)\n",
            "Installing collected packages: pytorchcvtcolor\n",
            "Successfully installed pytorchcvtcolor-0.1.dev1\n"
          ]
        }
      ],
      "source": [
        "!pip install pytorchcvtcolor"
      ]
    },
    {
      "cell_type": "code",
      "execution_count": null,
      "metadata": {
        "id": "WRYyniy9oLZn"
      },
      "outputs": [],
      "source": [
        "from models.hypochong import HypoChong\n",
        "from models.__init__ import save_checkpoint, resume_checkpoint\n",
        "from dataloader.hypochong import GazeDataset, GooDataset, RetailGaze\n",
        "from dataloader import chong_imutils\n",
        "from training.train_hypochong import train, test, GazeOptimizer"
      ]
    },
    {
      "cell_type": "code",
      "execution_count": null,
      "metadata": {
        "id": "waFZYBaUoxOa"
      },
      "outputs": [],
      "source": [
        "# Logger will save the training and test errors to a .log file \n",
        "logger = setup_logger(name='first_logger',\n",
        "                      log_dir ='./logs/',\n",
        "                      log_file='train_chong_gooreal.log',\n",
        "                      log_format = '%(asctime)s %(levelname)s %(message)s',\n",
        "                      verbose=True)"
      ]
    },
    {
      "cell_type": "code",
      "execution_count": null,
      "metadata": {
        "colab": {
          "base_uri": "https://localhost:8080/"
        },
        "id": "8qv-j0lUoNvl",
        "outputId": "99bbc160-4ca8-47e8-b748-d3e2414e3feb"
      },
      "outputs": [
        {
          "name": "stdout",
          "output_type": "stream",
          "text": [
            "Number of Images: 2728\n"
          ]
        },
        {
          "name": "stderr",
          "output_type": "stream",
          "text": [
            "/usr/local/lib/python3.7/dist-packages/torch/utils/data/dataloader.py:481: UserWarning: This DataLoader will create 16 worker processes in total. Our suggested max number of worker in current system is 4, which is smaller than what this DataLoader is going to create. Please be aware that excessive worker creation might get DataLoader running slow or even freeze, lower the worker number to avoid potential slowness/freeze if necessary.\n",
            "  cpuset_checked))\n"
          ]
        },
        {
          "name": "stdout",
          "output_type": "stream",
          "text": [
            "Number of Images: 609\n",
            "Number of Images: 585\n"
          ]
        },
        {
          "name": "stderr",
          "output_type": "stream",
          "text": [
            "/usr/local/lib/python3.7/dist-packages/torch/utils/data/dataloader.py:481: UserWarning: This DataLoader will create 8 worker processes in total. Our suggested max number of worker in current system is 4, which is smaller than what this DataLoader is going to create. Please be aware that excessive worker creation might get DataLoader running slow or even freeze, lower the worker number to avoid potential slowness/freeze if necessary.\n",
            "  cpuset_checked))\n"
          ]
        }
      ],
      "source": [
        "# Dataloaders for GOO-Synth\n",
        "batch_size=32\n",
        "workers=12\n",
        "\n",
        "images_dir = '/content/drive/MyDrive/RetailGaze/RetailGaze_V2/'\n",
        "pickle_path = '/content/drive/MyDrive/RetailGaze/RetailGaze_V3_train2.pickle'\n",
        "test_images_dir = '/content/drive/MyDrive/RetailGaze/RetailGaze_V2/'\n",
        "test_pickle_path = '/content/drive/MyDrive/RetailGaze/RetailGaze_V3_test2.pickle'\n",
        "val_images_dir = '/content/drive/MyDrive/RetailGaze/RetailGaze_V2/'\n",
        "val_pickle_path = '/content/drive/MyDrive/RetailGaze/RetailGaze_V3_valid2.pickle'\n",
        "\n",
        "train_set = RetailGaze(images_dir, pickle_path, 'train')\n",
        "train_data_loader = DataLoader(dataset=train_set,\n",
        "                                           batch_size=batch_size,\n",
        "                                           shuffle=True,\n",
        "                                           num_workers=16)\n",
        "\n",
        "test_set = RetailGaze(test_images_dir, test_pickle_path, 'test')\n",
        "test_data_loader = DataLoader(test_set, batch_size=1,\n",
        "                            shuffle=False, num_workers=4)\n",
        "\n",
        "val_set = RetailGaze(val_images_dir, val_pickle_path, 'train')\n",
        "val_data_loader = DataLoader(val_set, batch_size=batch_size//2,\n",
        "                            shuffle=False, num_workers=8)"
      ]
    },
    {
      "cell_type": "code",
      "execution_count": null,
      "metadata": {
        "colab": {
          "base_uri": "https://localhost:8080/"
        },
        "id": "u3Grza1XoNq-",
        "outputId": "098990b8-5875-487b-cc8d-2e9f6372cae2"
      },
      "outputs": [
        {
          "name": "stdout",
          "output_type": "stream",
          "text": [
            "==> Constructing model\n"
          ]
        }
      ],
      "source": [
        "\n",
        "\n",
        "# Loads model\n",
        "print(\"==> Constructing model\")\n",
        "net = HypoChong()\n",
        "\n",
        "net.cuda()\n",
        "# Hyperparameters\n",
        "start_epoch = 0\n",
        "max_epoch = 5\n",
        "learning_rate = 3e-4\n",
        "\n",
        "# Initial weights chong\n",
        "\n",
        "\n",
        "# Initializes Optimizer\n",
        "gaze_opt = GazeOptimizer(net, learning_rate)\n",
        "optimizer = gaze_opt.getOptimizer(start_epoch)\n",
        "\n",
        "# # Resuming Training\n",
        "# if True:\n",
        "#     checkpoint_fpath = '/content/drive/MyDrive/shashimal2_hypochong_new_0.pt'\n",
        "#     checkpoint = torch.load(checkpoint_fpath)\n",
        "#     net.load_state_dict(checkpoint['state_dict'])\n",
        "#     optimizer.load_state_dict(checkpoint['optimizer'])\n"
      ]
    },
    {
      "cell_type": "code",
      "execution_count": null,
      "metadata": {
        "colab": {
          "base_uri": "https://localhost:8080/"
        },
        "id": "HIOyb0sgoNmx",
        "outputId": "ff48515b-669f-4477-aac7-e21be7737214"
      },
      "outputs": [
        {
          "name": "stderr",
          "output_type": "stream",
          "text": [
            "/usr/local/lib/python3.7/dist-packages/torch/nn/_reduction.py:42: UserWarning: size_average and reduce args will be deprecated, please use reduction='none' instead.\n",
            "  warnings.warn(warning.format(ret))\n",
            "100%|██████████| 609/609 [00:23<00:00, 26.29it/s]\n",
            "average error: [0.5793633380158776, 0.3539387367954965, 38.24889572257457]\n"
          ]
        },
        {
          "data": {
            "text/plain": [
              "[0.5793633380158776, 0.3539387367954965, 38.24889572257457]"
            ]
          },
          "execution_count": 16,
          "metadata": {},
          "output_type": "execute_result"
        }
      ],
      "source": [
        "test(net, test_data_loader,logger, save_output=True)"
      ]
    },
    {
      "cell_type": "code",
      "execution_count": null,
      "metadata": {
        "colab": {
          "base_uri": "https://localhost:8080/"
        },
        "id": "dC0QV-foLK2G",
        "outputId": "0c296bdb-5c78-455f-e335-88ba5d7d0e08"
      },
      "outputs": [
        {
          "name": "stderr",
          "output_type": "stream",
          "text": [
            "/usr/local/lib/python3.7/dist-packages/torch/nn/_reduction.py:42: UserWarning: size_average and reduce args will be deprecated, please use reduction='none' instead.\n",
            "  warnings.warn(warning.format(ret))\n",
            "100%|██████████| 609/609 [00:22<00:00, 26.76it/s]\n",
            "average error: [0.5399521679460528, 0.7852711459667392, 98.0750974296619]\n"
          ]
        },
        {
          "data": {
            "text/plain": [
              "[0.5399521679460528, 0.7852711459667392, 98.0750974296619]"
            ]
          },
          "execution_count": 14,
          "metadata": {},
          "output_type": "execute_result"
        }
      ],
      "source": [
        "test(net, test_data_loader,logger, save_output=True)"
      ]
    },
    {
      "cell_type": "code",
      "execution_count": null,
      "metadata": {
        "colab": {
          "base_uri": "https://localhost:8080/"
        },
        "id": "yH4ENSA_oNhL",
        "outputId": "17abfa8f-21e8-4b4f-9e8a-e3a38f663de2"
      },
      "outputs": [
        {
          "name": "stderr",
          "output_type": "stream",
          "text": [
            "/usr/local/lib/python3.7/dist-packages/torch/nn/_reduction.py:42: UserWarning: size_average and reduce args will be deprecated, please use reduction='none' instead.\n",
            "  warnings.warn(warning.format(ret))\n",
            "/usr/local/lib/python3.7/dist-packages/torch/utils/data/dataloader.py:481: UserWarning: This DataLoader will create 16 worker processes in total. Our suggested max number of worker in current system is 4, which is smaller than what this DataLoader is going to create. Please be aware that excessive worker creation might get DataLoader running slow or even freeze, lower the worker number to avoid potential slowness/freeze if necessary.\n",
            "  cpuset_checked))\n",
            "  0%|          | 0/86 [00:00<?, ?it/s]544.976806640625\n",
            " 12%|█▏        | 10/86 [00:19<00:45,  1.67it/s]542.2954650878906\n",
            " 23%|██▎       | 20/86 [00:26<00:43,  1.52it/s]536.9843566894531\n",
            " 35%|███▍      | 30/86 [00:30<00:22,  2.46it/s]536.0933959960937\n",
            " 47%|████▋     | 40/86 [00:37<00:22,  2.06it/s]534.0963073730469\n",
            " 58%|█████▊    | 50/86 [00:44<00:38,  1.06s/it]528.9679260253906\n",
            " 70%|██████▉   | 60/86 [00:48<00:10,  2.39it/s]528.5374389648438\n",
            " 81%|████████▏ | 70/86 [00:55<00:08,  1.87it/s]523.1506530761719\n",
            " 93%|█████████▎| 80/86 [00:59<00:02,  2.54it/s]520.0189331054687\n",
            "100%|██████████| 86/86 [01:03<00:00,  1.35it/s]\n",
            "/usr/local/lib/python3.7/dist-packages/torch/utils/data/dataloader.py:481: UserWarning: This DataLoader will create 8 worker processes in total. Our suggested max number of worker in current system is 4, which is smaller than what this DataLoader is going to create. Please be aware that excessive worker creation might get DataLoader running slow or even freeze, lower the worker number to avoid potential slowness/freeze if necessary.\n",
            "  cpuset_checked))\n",
            " 43%|████▎     | 37/86 [00:21<00:28,  1.74it/s]\n"
          ]
        },
        {
          "name": "stdout",
          "output_type": "stream",
          "text": [
            "[  0/100] valid_loss: 531.70178\n",
            "Validation loss decreased (inf --> 531.701782).  Saving model ...\n"
          ]
        },
        {
          "name": "stderr",
          "output_type": "stream",
          "text": [
            "  0%|          | 0/86 [00:00<?, ?it/s]516.607666015625\n",
            " 12%|█▏        | 10/86 [00:09<00:37,  2.04it/s]514.1169525146485\n",
            " 23%|██▎       | 20/86 [00:14<00:32,  2.03it/s]510.58038330078125\n",
            " 35%|███▍      | 30/86 [00:18<00:24,  2.25it/s]508.0303100585937\n",
            " 47%|████▋     | 40/86 [00:23<00:19,  2.35it/s]503.53345642089846\n",
            " 58%|█████▊    | 50/86 [00:27<00:16,  2.21it/s]501.1923126220703\n",
            " 70%|██████▉   | 60/86 [00:32<00:11,  2.34it/s]499.1388214111328\n",
            " 81%|████████▏ | 70/86 [00:36<00:06,  2.60it/s]495.56508178710936\n",
            " 93%|█████████▎| 80/86 [00:40<00:02,  2.60it/s]493.3169281005859\n",
            "100%|██████████| 86/86 [00:42<00:00,  2.03it/s]\n",
            " 43%|████▎     | 37/86 [00:07<00:09,  5.18it/s]\n"
          ]
        },
        {
          "name": "stdout",
          "output_type": "stream",
          "text": [
            "[  1/100] valid_loss: 506.18985\n",
            "Validation loss decreased (531.701782 --> 506.189855).  Saving model ...\n"
          ]
        },
        {
          "name": "stderr",
          "output_type": "stream",
          "text": [
            "  0%|          | 0/86 [00:00<?, ?it/s]488.5313720703125\n",
            " 12%|█▏        | 10/86 [00:09<00:38,  1.97it/s]486.0297485351563\n",
            " 23%|██▎       | 20/86 [00:14<00:30,  2.16it/s]481.6374450683594\n",
            " 35%|███▍      | 30/86 [00:18<00:26,  2.15it/s]479.1133728027344\n",
            " 47%|████▋     | 40/86 [00:23<00:20,  2.20it/s]476.9730163574219\n",
            " 58%|█████▊    | 50/86 [00:27<00:16,  2.20it/s]474.1469970703125\n",
            " 70%|██████▉   | 60/86 [00:32<00:11,  2.29it/s]472.4722869873047\n",
            " 81%|████████▏ | 70/86 [00:36<00:06,  2.60it/s]468.8076965332031\n",
            " 93%|█████████▎| 80/86 [00:40<00:02,  2.61it/s]466.4922729492188\n",
            "100%|██████████| 86/86 [00:42<00:00,  2.03it/s]\n",
            " 43%|████▎     | 37/86 [00:06<00:09,  5.31it/s]\n"
          ]
        },
        {
          "name": "stdout",
          "output_type": "stream",
          "text": [
            "[  2/100] valid_loss: 481.78462\n",
            "Validation loss decreased (506.189855 --> 481.784624).  Saving model ...\n"
          ]
        },
        {
          "name": "stderr",
          "output_type": "stream",
          "text": [
            "  0%|          | 0/86 [00:00<?, ?it/s]455.6470947265625\n",
            " 12%|█▏        | 10/86 [00:09<00:37,  2.04it/s]458.6106018066406\n",
            " 23%|██▎       | 20/86 [00:14<00:30,  2.15it/s]453.9545623779297\n",
            " 35%|███▍      | 30/86 [00:18<00:24,  2.27it/s]453.69919738769534\n",
            " 47%|████▋     | 40/86 [00:23<00:19,  2.31it/s]450.4311584472656\n",
            " 58%|█████▊    | 50/86 [00:27<00:16,  2.21it/s]448.16258239746094\n",
            " 70%|██████▉   | 60/86 [00:32<00:11,  2.36it/s]446.0415100097656\n",
            " 81%|████████▏ | 70/86 [00:36<00:06,  2.58it/s]442.6912567138672\n",
            " 93%|█████████▎| 80/86 [00:40<00:02,  2.60it/s]435.84654235839844\n",
            "100%|██████████| 86/86 [00:42<00:00,  2.03it/s]\n",
            " 43%|████▎     | 37/86 [00:06<00:09,  5.35it/s]\n"
          ]
        },
        {
          "name": "stdout",
          "output_type": "stream",
          "text": [
            "[  3/100] valid_loss: 453.80222\n",
            "Validation loss decreased (481.784624 --> 453.802219).  Saving model ...\n"
          ]
        },
        {
          "name": "stderr",
          "output_type": "stream",
          "text": [
            "  0%|          | 0/86 [00:00<?, ?it/s]425.9888000488281\n",
            " 12%|█▏        | 10/86 [00:09<00:38,  1.96it/s]427.5882507324219\n",
            " 23%|██▎       | 20/86 [00:14<00:29,  2.24it/s]425.8888336181641\n",
            " 35%|███▍      | 30/86 [00:18<00:24,  2.26it/s]421.62754516601564\n",
            " 47%|████▋     | 40/86 [00:22<00:19,  2.34it/s]419.9995819091797\n",
            " 58%|█████▊    | 50/86 [00:27<00:17,  2.08it/s]416.76829528808594\n",
            " 70%|██████▉   | 60/86 [00:32<00:11,  2.31it/s]415.9239227294922\n",
            " 81%|████████▏ | 70/86 [00:35<00:06,  2.60it/s]412.1914337158203\n",
            " 93%|█████████▎| 80/86 [00:39<00:02,  2.59it/s]411.67458190917966\n",
            "100%|██████████| 86/86 [00:42<00:00,  2.04it/s]\n",
            " 43%|████▎     | 37/86 [00:06<00:09,  5.33it/s]\n"
          ]
        },
        {
          "name": "stdout",
          "output_type": "stream",
          "text": [
            "[  4/100] valid_loss: 430.65802\n",
            "Validation loss decreased (453.802219 --> 430.658024).  Saving model ...\n"
          ]
        },
        {
          "name": "stderr",
          "output_type": "stream",
          "text": [
            "  0%|          | 0/86 [00:00<?, ?it/s]403.70672607421875\n",
            " 12%|█▏        | 10/86 [00:09<00:38,  1.96it/s]402.5789306640625\n",
            " 23%|██▎       | 20/86 [00:13<00:29,  2.23it/s]401.27476806640624\n",
            " 35%|███▍      | 30/86 [00:18<00:24,  2.29it/s]398.59336242675784\n",
            " 47%|████▋     | 40/86 [00:22<00:20,  2.20it/s]397.0286102294922\n",
            " 58%|█████▊    | 50/86 [00:27<00:15,  2.32it/s]396.04718322753905\n",
            " 70%|██████▉   | 60/86 [00:31<00:11,  2.34it/s]392.9185424804688\n",
            " 81%|████████▏ | 70/86 [00:35<00:06,  2.57it/s]388.9112915039062\n",
            " 93%|█████████▎| 80/86 [00:39<00:02,  2.61it/s]385.1075103759766\n",
            "100%|██████████| 86/86 [00:41<00:00,  2.05it/s]\n",
            " 43%|████▎     | 37/86 [00:07<00:09,  5.27it/s]\n"
          ]
        },
        {
          "name": "stdout",
          "output_type": "stream",
          "text": [
            "[  5/100] valid_loss: 389.35670\n",
            "Validation loss decreased (430.658024 --> 389.356698).  Saving model ...\n"
          ]
        },
        {
          "name": "stderr",
          "output_type": "stream",
          "text": [
            "  0%|          | 0/86 [00:00<?, ?it/s]358.2396240234375\n",
            " 12%|█▏        | 10/86 [00:09<00:38,  1.98it/s]356.74742431640624\n",
            " 23%|██▎       | 20/86 [00:14<00:29,  2.22it/s]351.0721069335938\n",
            " 35%|███▍      | 30/86 [00:19<00:25,  2.17it/s]350.85532531738284\n",
            " 47%|████▋     | 40/86 [00:23<00:20,  2.29it/s]347.88779907226564\n",
            " 58%|█████▊    | 50/86 [00:28<00:15,  2.26it/s]343.0187561035156\n",
            " 70%|██████▉   | 60/86 [00:32<00:11,  2.32it/s]343.4993499755859\n",
            " 81%|████████▏ | 70/86 [00:36<00:06,  2.60it/s]343.04542236328126\n",
            " 93%|█████████▎| 80/86 [00:40<00:02,  2.59it/s]340.0835784912109\n",
            "100%|██████████| 86/86 [00:42<00:00,  2.03it/s]\n",
            " 43%|████▎     | 37/86 [00:06<00:09,  5.39it/s]\n"
          ]
        },
        {
          "name": "stdout",
          "output_type": "stream",
          "text": [
            "[  6/100] valid_loss: 367.85109\n",
            "Validation loss decreased (389.356698 --> 367.851093).  Saving model ...\n"
          ]
        },
        {
          "name": "stderr",
          "output_type": "stream",
          "text": [
            "  0%|          | 0/86 [00:00<?, ?it/s]338.6468811035156\n",
            " 12%|█▏        | 10/86 [00:08<00:36,  2.06it/s]334.77178955078125\n",
            " 23%|██▎       | 20/86 [00:13<00:30,  2.14it/s]330.62254943847654\n",
            " 35%|███▍      | 30/86 [00:18<00:24,  2.25it/s]329.41981201171876\n",
            " 47%|████▋     | 40/86 [00:22<00:19,  2.31it/s]326.6867156982422\n",
            " 58%|█████▊    | 50/86 [00:27<00:16,  2.18it/s]326.6314697265625\n",
            " 70%|██████▉   | 60/86 [00:31<00:11,  2.23it/s]319.11412353515624\n",
            " 81%|████████▏ | 70/86 [00:35<00:06,  2.58it/s]319.4252471923828\n",
            " 93%|█████████▎| 80/86 [00:39<00:02,  2.61it/s]316.8471954345703\n",
            "100%|██████████| 86/86 [00:41<00:00,  2.05it/s]\n",
            " 43%|████▎     | 37/86 [00:06<00:09,  5.32it/s]\n"
          ]
        },
        {
          "name": "stdout",
          "output_type": "stream",
          "text": [
            "[  7/100] valid_loss: 344.84770\n",
            "Validation loss decreased (367.851093 --> 344.847705).  Saving model ...\n"
          ]
        },
        {
          "name": "stderr",
          "output_type": "stream",
          "text": [
            "  0%|          | 0/86 [00:00<?, ?it/s]314.2047424316406\n",
            " 12%|█▏        | 10/86 [00:09<00:38,  1.97it/s]309.52649841308596\n",
            " 23%|██▎       | 20/86 [00:14<00:30,  2.13it/s]303.6584197998047\n",
            " 35%|███▍      | 30/86 [00:18<00:24,  2.29it/s]299.60419921875\n",
            " 47%|████▋     | 40/86 [00:23<00:20,  2.28it/s]294.85532531738284\n",
            " 58%|█████▊    | 50/86 [00:27<00:16,  2.19it/s]293.56248168945314\n",
            " 70%|██████▉   | 60/86 [00:32<00:11,  2.25it/s]292.36729431152344\n",
            " 81%|████████▏ | 70/86 [00:36<00:06,  2.59it/s]288.4057647705078\n",
            " 93%|█████████▎| 80/86 [00:40<00:02,  2.61it/s]288.8503173828125\n",
            "100%|██████████| 86/86 [00:42<00:00,  2.02it/s]\n",
            " 43%|████▎     | 37/86 [00:06<00:09,  5.33it/s]\n"
          ]
        },
        {
          "name": "stdout",
          "output_type": "stream",
          "text": [
            "[  8/100] valid_loss: 321.89815\n",
            "Validation loss decreased (344.847705 --> 321.898151).  Saving model ...\n"
          ]
        },
        {
          "name": "stderr",
          "output_type": "stream",
          "text": [
            "  0%|          | 0/86 [00:00<?, ?it/s]280.62359619140625\n",
            " 12%|█▏        | 10/86 [00:10<00:39,  1.94it/s]281.7054046630859\n",
            " 23%|██▎       | 20/86 [00:14<00:30,  2.14it/s]279.2358001708984\n",
            " 35%|███▍      | 30/86 [00:19<00:26,  2.13it/s]278.08709106445315\n",
            " 47%|████▋     | 40/86 [00:23<00:20,  2.27it/s]275.46784057617185\n",
            " 58%|█████▊    | 50/86 [00:28<00:16,  2.20it/s]274.845751953125\n",
            " 70%|██████▉   | 60/86 [00:32<00:11,  2.28it/s]273.6327850341797\n",
            " 81%|████████▏ | 70/86 [00:36<00:06,  2.57it/s]271.886572265625\n",
            " 93%|█████████▎| 80/86 [00:40<00:02,  2.60it/s]268.9492614746094\n",
            "100%|██████████| 86/86 [00:42<00:00,  2.01it/s]\n",
            " 43%|████▎     | 37/86 [00:06<00:09,  5.33it/s]\n"
          ]
        },
        {
          "name": "stdout",
          "output_type": "stream",
          "text": [
            "[  9/100] valid_loss: 304.05259\n",
            "Validation loss decreased (321.898151 --> 304.052585).  Saving model ...\n"
          ]
        },
        {
          "name": "stderr",
          "output_type": "stream",
          "text": [
            "  0%|          | 0/86 [00:00<?, ?it/s]265.0887756347656\n",
            " 12%|█▏        | 10/86 [00:09<00:39,  1.92it/s]264.0809020996094\n",
            " 23%|██▎       | 20/86 [00:13<00:30,  2.15it/s]262.4358734130859\n",
            " 35%|███▍      | 30/86 [00:18<00:25,  2.24it/s]250.1001998901367\n",
            " 47%|████▋     | 40/86 [00:22<00:20,  2.23it/s]235.94332275390624\n",
            " 58%|█████▊    | 50/86 [00:27<00:16,  2.14it/s]227.83907928466797\n",
            " 70%|██████▉   | 60/86 [00:32<00:11,  2.28it/s]220.2738815307617\n",
            " 81%|████████▏ | 70/86 [00:36<00:06,  2.57it/s]211.29397735595703\n",
            " 93%|█████████▎| 80/86 [00:39<00:02,  2.59it/s]208.69982299804687\n",
            "100%|██████████| 86/86 [00:42<00:00,  2.04it/s]\n",
            " 43%|████▎     | 37/86 [00:06<00:09,  5.29it/s]\n"
          ]
        },
        {
          "name": "stdout",
          "output_type": "stream",
          "text": [
            "[ 10/100] valid_loss: 243.97827\n",
            "Validation loss decreased (304.052585 --> 243.978274).  Saving model ...\n"
          ]
        },
        {
          "name": "stderr",
          "output_type": "stream",
          "text": [
            "  0%|          | 0/86 [00:00<?, ?it/s]202.0775146484375\n",
            " 12%|█▏        | 10/86 [00:09<00:37,  2.03it/s]205.95000610351562\n",
            " 23%|██▎       | 20/86 [00:13<00:29,  2.21it/s]203.32330780029298\n",
            " 35%|███▍      | 30/86 [00:18<00:24,  2.33it/s]201.9344970703125\n",
            " 47%|████▋     | 40/86 [00:22<00:19,  2.31it/s]200.77540130615233\n",
            " 58%|█████▊    | 50/86 [00:27<00:17,  2.08it/s]200.33507385253907\n",
            " 70%|██████▉   | 60/86 [00:31<00:10,  2.37it/s]199.37767181396484\n",
            " 81%|████████▏ | 70/86 [00:35<00:06,  2.59it/s]198.34145965576172\n",
            " 93%|█████████▎| 80/86 [00:39<00:02,  2.61it/s]198.06979370117188\n",
            "100%|██████████| 86/86 [00:41<00:00,  2.06it/s]\n",
            " 43%|████▎     | 37/86 [00:06<00:09,  5.31it/s]\n"
          ]
        },
        {
          "name": "stdout",
          "output_type": "stream",
          "text": [
            "[ 11/100] valid_loss: 235.24575\n",
            "Validation loss decreased (243.978274 --> 235.245746).  Saving model ...\n"
          ]
        },
        {
          "name": "stderr",
          "output_type": "stream",
          "text": [
            "  0%|          | 0/86 [00:00<?, ?it/s]194.65951538085938\n",
            " 12%|█▏        | 10/86 [00:09<00:38,  1.98it/s]194.73625946044922\n",
            " 23%|██▎       | 20/86 [00:14<00:30,  2.16it/s]193.6359619140625\n",
            " 35%|███▍      | 30/86 [00:18<00:25,  2.19it/s]192.43588104248047\n",
            " 47%|████▋     | 40/86 [00:23<00:19,  2.35it/s]190.26478271484376\n",
            " 58%|█████▊    | 50/86 [00:27<00:16,  2.17it/s]190.0320297241211\n",
            " 70%|██████▉   | 60/86 [00:32<00:11,  2.35it/s]182.07196044921875\n",
            " 81%|████████▏ | 70/86 [00:36<00:06,  2.59it/s]179.40570526123048\n",
            " 93%|█████████▎| 80/86 [00:40<00:02,  2.59it/s]178.62315673828124\n",
            "100%|██████████| 86/86 [00:42<00:00,  2.03it/s]\n",
            " 43%|████▎     | 37/86 [00:06<00:09,  5.41it/s]\n"
          ]
        },
        {
          "name": "stdout",
          "output_type": "stream",
          "text": [
            "[ 12/100] valid_loss: 219.53854\n",
            "Validation loss decreased (235.245746 --> 219.538540).  Saving model ...\n"
          ]
        },
        {
          "name": "stderr",
          "output_type": "stream",
          "text": [
            "  0%|          | 0/86 [00:00<?, ?it/s]179.37611389160156\n",
            " 12%|█▏        | 10/86 [00:09<00:38,  1.96it/s]173.86313171386718\n",
            " 23%|██▎       | 20/86 [00:14<00:31,  2.12it/s]164.64703216552735\n",
            " 35%|███▍      | 30/86 [00:18<00:25,  2.16it/s]161.55351867675782\n",
            " 47%|████▋     | 40/86 [00:23<00:19,  2.33it/s]160.60052032470702\n",
            " 58%|█████▊    | 50/86 [00:27<00:16,  2.19it/s]159.46414031982422\n",
            " 70%|██████▉   | 60/86 [00:32<00:11,  2.33it/s]157.13354034423827\n",
            " 81%|████████▏ | 70/86 [00:35<00:06,  2.60it/s]155.44860382080077\n",
            " 93%|█████████▎| 80/86 [00:39<00:02,  2.61it/s]153.8092025756836\n",
            "100%|██████████| 86/86 [00:42<00:00,  2.04it/s]\n",
            " 43%|████▎     | 37/86 [00:06<00:09,  5.38it/s]\n"
          ]
        },
        {
          "name": "stdout",
          "output_type": "stream",
          "text": [
            "[ 13/100] valid_loss: 195.84413\n",
            "Validation loss decreased (219.538540 --> 195.844134).  Saving model ...\n"
          ]
        },
        {
          "name": "stderr",
          "output_type": "stream",
          "text": [
            "  0%|          | 0/86 [00:00<?, ?it/s]152.2317657470703\n",
            " 12%|█▏        | 10/86 [00:09<00:38,  2.00it/s]153.4315612792969\n",
            " 23%|██▎       | 20/86 [00:14<00:30,  2.18it/s]150.96800994873047\n",
            " 35%|███▍      | 30/86 [00:18<00:25,  2.22it/s]148.524365234375\n",
            " 47%|████▋     | 40/86 [00:23<00:20,  2.24it/s]148.37784576416016\n",
            " 58%|█████▊    | 50/86 [00:28<00:16,  2.13it/s]147.14539794921876\n",
            " 70%|██████▉   | 60/86 [00:32<00:10,  2.38it/s]146.09329528808593\n",
            " 81%|████████▏ | 70/86 [00:36<00:06,  2.58it/s]145.91937561035155\n",
            " 93%|█████████▎| 80/86 [00:40<00:02,  2.60it/s]145.4935272216797\n",
            "100%|██████████| 86/86 [00:42<00:00,  2.02it/s]\n",
            " 43%|████▎     | 37/86 [00:06<00:09,  5.35it/s]\n"
          ]
        },
        {
          "name": "stdout",
          "output_type": "stream",
          "text": [
            "[ 14/100] valid_loss: 187.73816\n",
            "Validation loss decreased (195.844134 --> 187.738165).  Saving model ...\n"
          ]
        },
        {
          "name": "stderr",
          "output_type": "stream",
          "text": [
            "  0%|          | 0/86 [00:00<?, ?it/s]144.55630493164062\n",
            " 12%|█▏        | 10/86 [00:09<00:38,  1.98it/s]144.20550994873048\n",
            " 23%|██▎       | 20/86 [00:14<00:31,  2.12it/s]143.3614501953125\n",
            " 35%|███▍      | 30/86 [00:19<00:26,  2.12it/s]141.6496612548828\n",
            " 47%|████▋     | 40/86 [00:23<00:19,  2.36it/s]141.87346649169922\n",
            " 58%|█████▊    | 50/86 [00:28<00:17,  2.10it/s]141.7289291381836\n",
            " 70%|██████▉   | 60/86 [00:32<00:11,  2.35it/s]141.4564422607422\n",
            " 81%|████████▏ | 70/86 [00:36<00:06,  2.59it/s]141.15086517333984\n",
            " 93%|█████████▎| 80/86 [00:40<00:02,  2.60it/s]139.8937545776367\n",
            "100%|██████████| 86/86 [00:42<00:00,  2.02it/s]\n",
            " 43%|████▎     | 37/86 [00:06<00:09,  5.29it/s]\n"
          ]
        },
        {
          "name": "stdout",
          "output_type": "stream",
          "text": [
            "[ 15/100] valid_loss: 182.42181\n",
            "Validation loss decreased (187.738165 --> 182.421810).  Saving model ...\n"
          ]
        },
        {
          "name": "stderr",
          "output_type": "stream",
          "text": [
            "  0%|          | 0/86 [00:00<?, ?it/s]135.11605834960938\n",
            " 12%|█▏        | 10/86 [00:09<00:40,  1.88it/s]137.49446716308594\n",
            " 23%|██▎       | 20/86 [00:14<00:30,  2.19it/s]136.03142700195312\n",
            " 35%|███▍      | 30/86 [00:18<00:26,  2.11it/s]135.89442596435546\n",
            " 47%|████▋     | 40/86 [00:23<00:20,  2.24it/s]134.76722412109376\n",
            " 58%|█████▊    | 50/86 [00:28<00:16,  2.14it/s]135.9678970336914\n",
            " 70%|██████▉   | 60/86 [00:32<00:11,  2.36it/s]133.60063781738282\n",
            " 81%|████████▏ | 70/86 [00:36<00:06,  2.58it/s]133.7014129638672\n",
            " 93%|█████████▎| 80/86 [00:40<00:02,  2.58it/s]133.0787612915039\n",
            "100%|██████████| 86/86 [00:42<00:00,  2.01it/s]\n",
            " 43%|████▎     | 37/86 [00:07<00:09,  5.28it/s]\n"
          ]
        },
        {
          "name": "stdout",
          "output_type": "stream",
          "text": [
            "[ 16/100] valid_loss: 175.65214\n",
            "Validation loss decreased (182.421810 --> 175.652141).  Saving model ...\n"
          ]
        },
        {
          "name": "stderr",
          "output_type": "stream",
          "text": [
            "  0%|          | 0/86 [00:00<?, ?it/s]130.80001831054688\n",
            " 12%|█▏        | 10/86 [00:09<00:38,  1.98it/s]131.06694488525392\n",
            " 23%|██▎       | 20/86 [00:13<00:29,  2.20it/s]130.23514862060546\n",
            " 35%|███▍      | 30/86 [00:18<00:24,  2.29it/s]128.66584320068358\n",
            " 47%|████▋     | 40/86 [00:23<00:20,  2.21it/s]124.21588134765625\n",
            " 58%|█████▊    | 50/86 [00:27<00:17,  2.09it/s]120.85089416503907\n",
            " 70%|██████▉   | 60/86 [00:32<00:11,  2.27it/s]120.32158279418945\n",
            " 81%|████████▏ | 70/86 [00:36<00:06,  2.56it/s]118.81169281005859\n",
            " 93%|█████████▎| 80/86 [00:39<00:02,  2.61it/s]118.97832641601562\n",
            "100%|██████████| 86/86 [00:42<00:00,  2.03it/s]\n",
            " 43%|████▎     | 37/86 [00:07<00:09,  5.26it/s]\n"
          ]
        },
        {
          "name": "stdout",
          "output_type": "stream",
          "text": [
            "[ 17/100] valid_loss: 161.32730\n",
            "Validation loss decreased (175.652141 --> 161.327303).  Saving model ...\n"
          ]
        },
        {
          "name": "stderr",
          "output_type": "stream",
          "text": [
            "  0%|          | 0/86 [00:00<?, ?it/s]116.33489227294922\n",
            " 12%|█▏        | 10/86 [00:09<00:39,  1.93it/s]117.08721618652343\n",
            " 23%|██▎       | 20/86 [00:14<00:29,  2.25it/s]117.01068878173828\n",
            " 35%|███▍      | 30/86 [00:18<00:25,  2.21it/s]115.95665664672852\n",
            " 47%|████▋     | 40/86 [00:23<00:20,  2.23it/s]115.6967529296875\n",
            " 58%|█████▊    | 50/86 [00:27<00:15,  2.29it/s]114.40724334716796\n",
            " 70%|██████▉   | 60/86 [00:31<00:11,  2.26it/s]115.17752532958984\n",
            " 81%|████████▏ | 70/86 [00:36<00:06,  2.57it/s]114.25326766967774\n",
            " 93%|█████████▎| 80/86 [00:39<00:02,  2.61it/s]113.71914443969726\n",
            "100%|██████████| 86/86 [00:42<00:00,  2.04it/s]\n",
            " 43%|████▎     | 37/86 [00:07<00:09,  5.23it/s]\n"
          ]
        },
        {
          "name": "stdout",
          "output_type": "stream",
          "text": [
            "[ 18/100] valid_loss: 156.52158\n",
            "Validation loss decreased (161.327303 --> 156.521583).  Saving model ...\n"
          ]
        },
        {
          "name": "stderr",
          "output_type": "stream",
          "text": [
            "  0%|          | 0/86 [00:00<?, ?it/s]115.7553939819336\n",
            " 12%|█▏        | 10/86 [00:09<00:38,  1.98it/s]112.77363662719726\n",
            " 23%|██▎       | 20/86 [00:14<00:30,  2.15it/s]111.81517105102539\n",
            " 35%|███▍      | 30/86 [00:18<00:24,  2.28it/s]111.67048797607421\n",
            " 47%|████▋     | 40/86 [00:23<00:20,  2.26it/s]110.29995269775391\n",
            " 58%|█████▊    | 50/86 [00:27<00:15,  2.26it/s]110.6139923095703\n",
            " 70%|██████▉   | 60/86 [00:32<00:11,  2.23it/s]110.02371826171876\n",
            " 81%|████████▏ | 70/86 [00:36<00:06,  2.55it/s]109.4483772277832\n",
            " 93%|█████████▎| 80/86 [00:40<00:02,  2.59it/s]109.10609588623046\n",
            "100%|██████████| 86/86 [00:42<00:00,  2.03it/s]\n",
            " 43%|████▎     | 37/86 [00:07<00:09,  5.09it/s]\n"
          ]
        },
        {
          "name": "stdout",
          "output_type": "stream",
          "text": [
            "[ 19/100] valid_loss: 152.58298\n",
            "Validation loss decreased (156.521583 --> 152.582976).  Saving model ...\n"
          ]
        },
        {
          "name": "stderr",
          "output_type": "stream",
          "text": [
            "  0%|          | 0/86 [00:00<?, ?it/s]108.13581085205078\n",
            " 12%|█▏        | 10/86 [00:09<00:38,  1.99it/s]105.86919326782227\n",
            " 23%|██▎       | 20/86 [00:14<00:30,  2.13it/s]95.17610931396484\n",
            " 35%|███▍      | 30/86 [00:18<00:23,  2.34it/s]91.94702377319337\n",
            " 47%|████▋     | 40/86 [00:23<00:20,  2.28it/s]89.75219650268555\n",
            " 58%|█████▊    | 50/86 [00:28<00:17,  2.10it/s]87.96675567626953\n",
            " 70%|██████▉   | 60/86 [00:32<00:11,  2.33it/s]87.06425094604492\n",
            " 81%|████████▏ | 70/86 [00:36<00:06,  2.58it/s]86.29568328857422\n",
            " 93%|█████████▎| 80/86 [00:40<00:02,  2.60it/s]86.14022979736328\n",
            "100%|██████████| 86/86 [00:42<00:00,  2.02it/s]\n",
            " 43%|████▎     | 37/86 [00:07<00:09,  5.26it/s]\n"
          ]
        },
        {
          "name": "stdout",
          "output_type": "stream",
          "text": [
            "[ 20/100] valid_loss: 129.57263\n",
            "Validation loss decreased (152.582976 --> 129.572629).  Saving model ...\n"
          ]
        },
        {
          "name": "stderr",
          "output_type": "stream",
          "text": [
            "  0%|          | 0/86 [00:00<?, ?it/s]85.27876281738281\n",
            " 12%|█▏        | 10/86 [00:09<00:38,  1.96it/s]85.36542129516602\n",
            " 23%|██▎       | 20/86 [00:14<00:29,  2.25it/s]84.76851501464844\n",
            " 35%|███▍      | 30/86 [00:18<00:24,  2.24it/s]84.77822494506836\n",
            " 47%|████▋     | 40/86 [00:23<00:22,  2.07it/s]84.26161270141601\n",
            " 58%|█████▊    | 50/86 [00:27<00:16,  2.20it/s]84.3548583984375\n",
            " 70%|██████▉   | 60/86 [00:32<00:11,  2.33it/s]83.72911682128907\n",
            " 81%|████████▏ | 70/86 [00:36<00:06,  2.52it/s]83.59641189575196\n",
            " 93%|█████████▎| 80/86 [00:40<00:02,  2.62it/s]83.68667068481446\n",
            "100%|██████████| 86/86 [00:42<00:00,  2.03it/s]\n",
            " 43%|████▎     | 37/86 [00:07<00:09,  5.24it/s]\n"
          ]
        },
        {
          "name": "stdout",
          "output_type": "stream",
          "text": [
            "[ 21/100] valid_loss: 126.35928\n",
            "Validation loss decreased (129.572629 --> 126.359281).  Saving model ...\n"
          ]
        },
        {
          "name": "stderr",
          "output_type": "stream",
          "text": [
            "  0%|          | 0/86 [00:00<?, ?it/s]82.55461120605469\n",
            " 12%|█▏        | 10/86 [00:09<00:39,  1.95it/s]83.44197311401368\n",
            " 23%|██▎       | 20/86 [00:14<00:32,  2.05it/s]82.42681045532227\n",
            " 35%|███▍      | 30/86 [00:18<00:24,  2.26it/s]81.88213348388672\n",
            " 47%|████▋     | 40/86 [00:23<00:20,  2.23it/s]82.0066017150879\n",
            " 58%|█████▊    | 50/86 [00:28<00:16,  2.12it/s]81.31161422729492\n",
            " 70%|██████▉   | 60/86 [00:32<00:11,  2.32it/s]81.21390380859376\n",
            " 81%|████████▏ | 70/86 [00:36<00:06,  2.56it/s]81.18293151855468\n",
            " 93%|█████████▎| 80/86 [00:40<00:02,  2.59it/s]80.92988662719726\n",
            "100%|██████████| 86/86 [00:42<00:00,  2.02it/s]\n",
            " 43%|████▎     | 37/86 [00:07<00:09,  5.24it/s]\n"
          ]
        },
        {
          "name": "stdout",
          "output_type": "stream",
          "text": [
            "[ 22/100] valid_loss: 123.27869\n",
            "Validation loss decreased (126.359281 --> 123.278686).  Saving model ...\n"
          ]
        },
        {
          "name": "stderr",
          "output_type": "stream",
          "text": [
            "  0%|          | 0/86 [00:00<?, ?it/s]80.41645812988281\n",
            " 12%|█▏        | 10/86 [00:09<00:37,  2.01it/s]80.38951263427734\n",
            " 23%|██▎       | 20/86 [00:13<00:29,  2.24it/s]79.95202102661133\n",
            " 35%|███▍      | 30/86 [00:18<00:25,  2.24it/s]80.09423522949218\n",
            " 47%|████▋     | 40/86 [00:22<00:20,  2.27it/s]79.57822723388672\n",
            " 58%|█████▊    | 50/86 [00:27<00:17,  2.04it/s]79.75456771850585\n",
            " 70%|██████▉   | 60/86 [00:31<00:11,  2.31it/s]79.1992317199707\n",
            " 81%|████████▏ | 70/86 [00:35<00:06,  2.55it/s]78.7328971862793\n",
            " 93%|█████████▎| 80/86 [00:39<00:02,  2.61it/s]78.83030548095704\n",
            "100%|██████████| 86/86 [00:42<00:00,  2.04it/s]\n",
            " 43%|████▎     | 37/86 [00:07<00:09,  5.19it/s]\n"
          ]
        },
        {
          "name": "stdout",
          "output_type": "stream",
          "text": [
            "[ 23/100] valid_loss: 120.88988\n",
            "Validation loss decreased (123.278686 --> 120.889884).  Saving model ...\n"
          ]
        },
        {
          "name": "stderr",
          "output_type": "stream",
          "text": [
            "  0%|          | 0/86 [00:00<?, ?it/s]78.75907897949219\n",
            " 12%|█▏        | 10/86 [00:09<00:37,  2.01it/s]79.76991271972656\n",
            " 23%|██▎       | 20/86 [00:14<00:29,  2.25it/s]78.70220413208008\n",
            " 35%|███▍      | 30/86 [00:18<00:24,  2.31it/s]77.5238151550293\n",
            " 47%|████▋     | 40/86 [00:23<00:20,  2.24it/s]77.18285522460937\n",
            " 58%|█████▊    | 50/86 [00:27<00:16,  2.19it/s]77.45653991699218\n",
            " 70%|██████▉   | 60/86 [00:32<00:11,  2.25it/s]76.52764434814453\n",
            " 81%|████████▏ | 70/86 [00:36<00:06,  2.55it/s]75.81046600341797\n",
            " 93%|█████████▎| 80/86 [00:40<00:02,  2.60it/s]76.55393295288086\n",
            "100%|██████████| 86/86 [00:42<00:00,  2.03it/s]\n",
            " 43%|████▎     | 37/86 [00:07<00:09,  5.28it/s]\n"
          ]
        },
        {
          "name": "stdout",
          "output_type": "stream",
          "text": [
            "[ 24/100] valid_loss: 119.52698\n",
            "Validation loss decreased (120.889884 --> 119.526977).  Saving model ...\n"
          ]
        },
        {
          "name": "stderr",
          "output_type": "stream",
          "text": [
            "  0%|          | 0/86 [00:00<?, ?it/s]76.60458374023438\n",
            " 12%|█▏        | 10/86 [00:09<00:37,  2.04it/s]77.63481979370117\n",
            " 23%|██▎       | 20/86 [00:14<00:30,  2.19it/s]78.17437973022462\n",
            " 35%|███▍      | 30/86 [00:18<00:24,  2.24it/s]77.5031608581543\n",
            " 47%|████▋     | 40/86 [00:23<00:19,  2.34it/s]76.55595626831055\n",
            " 58%|█████▊    | 50/86 [00:27<00:17,  2.10it/s]76.3919891357422\n",
            " 70%|██████▉   | 60/86 [00:32<00:11,  2.22it/s]76.22154541015625\n",
            " 81%|████████▏ | 70/86 [00:36<00:06,  2.58it/s]75.81932373046875\n",
            " 93%|█████████▎| 80/86 [00:40<00:02,  2.60it/s]75.26407928466797\n",
            "100%|██████████| 86/86 [00:42<00:00,  2.03it/s]\n",
            " 43%|████▎     | 37/86 [00:07<00:09,  5.26it/s]\n"
          ]
        },
        {
          "name": "stdout",
          "output_type": "stream",
          "text": [
            "[ 25/100] valid_loss: 115.83058\n",
            "Validation loss decreased (119.526977 --> 115.830580).  Saving model ...\n"
          ]
        },
        {
          "name": "stderr",
          "output_type": "stream",
          "text": [
            "  0%|          | 0/86 [00:00<?, ?it/s]74.77691650390625\n",
            " 12%|█▏        | 10/86 [00:09<00:38,  2.00it/s]74.88991851806641\n",
            " 23%|██▎       | 20/86 [00:14<00:31,  2.12it/s]75.39803924560547\n",
            " 35%|███▍      | 30/86 [00:18<00:25,  2.23it/s]74.14477615356445\n",
            " 47%|████▋     | 40/86 [00:23<00:20,  2.28it/s]73.77867126464844\n",
            " 58%|█████▊    | 50/86 [00:27<00:16,  2.22it/s]73.47626266479492\n",
            " 70%|██████▉   | 60/86 [00:32<00:11,  2.21it/s]72.97777404785157\n",
            " 81%|████████▏ | 70/86 [00:36<00:06,  2.57it/s]72.77501525878907\n",
            " 93%|█████████▎| 80/86 [00:40<00:02,  2.60it/s]73.00907974243164\n",
            "100%|██████████| 86/86 [00:42<00:00,  2.03it/s]\n",
            " 43%|████▎     | 37/86 [00:07<00:09,  5.22it/s]\n"
          ]
        },
        {
          "name": "stdout",
          "output_type": "stream",
          "text": [
            "[ 26/100] valid_loss: 113.01206\n",
            "Validation loss decreased (115.830580 --> 113.012055).  Saving model ...\n"
          ]
        },
        {
          "name": "stderr",
          "output_type": "stream",
          "text": [
            "  0%|          | 0/86 [00:00<?, ?it/s]74.01571655273438\n",
            " 12%|█▏        | 10/86 [00:09<00:37,  2.01it/s]72.41350860595703\n",
            " 23%|██▎       | 20/86 [00:14<00:29,  2.24it/s]72.05868911743164\n",
            " 35%|███▍      | 30/86 [00:18<00:25,  2.22it/s]71.70006942749023\n",
            " 47%|████▋     | 40/86 [00:23<00:19,  2.31it/s]71.71718521118164\n",
            " 58%|█████▊    | 50/86 [00:27<00:16,  2.20it/s]70.9986343383789\n",
            " 70%|██████▉   | 60/86 [00:32<00:11,  2.26it/s]71.1272216796875\n",
            " 81%|████████▏ | 70/86 [00:36<00:06,  2.57it/s]70.69422302246093\n",
            " 93%|█████████▎| 80/86 [00:40<00:02,  2.60it/s]70.83747940063476\n",
            "100%|██████████| 86/86 [00:42<00:00,  2.03it/s]\n",
            " 43%|████▎     | 37/86 [00:07<00:09,  5.26it/s]\n"
          ]
        },
        {
          "name": "stdout",
          "output_type": "stream",
          "text": [
            "[ 27/100] valid_loss: 110.67207\n",
            "Validation loss decreased (113.012055 --> 110.672068).  Saving model ...\n"
          ]
        },
        {
          "name": "stderr",
          "output_type": "stream",
          "text": [
            "  0%|          | 0/86 [00:00<?, ?it/s]70.27507781982422\n",
            " 12%|█▏        | 10/86 [00:09<00:37,  2.02it/s]70.26059494018554\n",
            " 23%|██▎       | 20/86 [00:13<00:30,  2.14it/s]69.80031356811523\n",
            " 35%|███▍      | 30/86 [00:18<00:25,  2.17it/s]69.54333267211913\n",
            " 47%|████▋     | 40/86 [00:22<00:20,  2.27it/s]69.56930770874024\n",
            " 58%|█████▊    | 50/86 [00:27<00:17,  2.07it/s]69.32230529785156\n",
            " 70%|██████▉   | 60/86 [00:31<00:11,  2.24it/s]68.81989440917968\n",
            " 81%|████████▏ | 70/86 [00:35<00:06,  2.56it/s]68.61700897216797\n",
            " 93%|█████████▎| 80/86 [00:39<00:02,  2.60it/s]68.83049697875977\n",
            "100%|██████████| 86/86 [00:41<00:00,  2.05it/s]\n",
            " 43%|████▎     | 37/86 [00:07<00:09,  5.19it/s]\n"
          ]
        },
        {
          "name": "stdout",
          "output_type": "stream",
          "text": [
            "[ 28/100] valid_loss: 108.33745\n",
            "Validation loss decreased (110.672068 --> 108.337451).  Saving model ...\n"
          ]
        },
        {
          "name": "stderr",
          "output_type": "stream",
          "text": [
            "  0%|          | 0/86 [00:00<?, ?it/s]68.76689910888672\n",
            " 12%|█▏        | 10/86 [00:09<00:38,  1.96it/s]68.13529434204102\n",
            " 23%|██▎       | 20/86 [00:14<00:32,  2.03it/s]67.82460556030273\n",
            " 35%|███▍      | 30/86 [00:18<00:25,  2.24it/s]67.68010711669922\n",
            " 47%|████▋     | 40/86 [00:23<00:20,  2.23it/s]67.49997406005859\n",
            " 58%|█████▊    | 50/86 [00:27<00:16,  2.18it/s]67.39529647827149\n",
            " 70%|██████▉   | 60/86 [00:32<00:11,  2.28it/s]67.29588088989257\n",
            " 81%|████████▏ | 70/86 [00:36<00:06,  2.58it/s]67.31231079101562\n",
            " 93%|█████████▎| 80/86 [00:40<00:02,  2.60it/s]66.88106536865234\n",
            "100%|██████████| 86/86 [00:42<00:00,  2.02it/s]\n",
            " 43%|████▎     | 37/86 [00:07<00:09,  5.25it/s]\n"
          ]
        },
        {
          "name": "stdout",
          "output_type": "stream",
          "text": [
            "[ 29/100] valid_loss: 105.86710\n",
            "Validation loss decreased (108.337451 --> 105.867101).  Saving model ...\n"
          ]
        },
        {
          "name": "stderr",
          "output_type": "stream",
          "text": [
            "  0%|          | 0/86 [00:00<?, ?it/s]66.26097106933594\n",
            " 12%|█▏        | 10/86 [00:09<00:38,  1.97it/s]66.95734252929688\n",
            " 23%|██▎       | 20/86 [00:13<00:30,  2.17it/s]66.2464485168457\n",
            " 35%|███▍      | 30/86 [00:18<00:26,  2.11it/s]65.60209732055664\n",
            " 47%|████▋     | 40/86 [00:23<00:20,  2.22it/s]65.66663055419922\n",
            " 58%|█████▊    | 50/86 [00:27<00:15,  2.33it/s]65.83214569091797\n",
            " 70%|██████▉   | 60/86 [00:32<00:12,  2.14it/s]65.3200469970703\n",
            " 81%|████████▏ | 70/86 [00:36<00:06,  2.54it/s]65.17849960327149\n",
            " 93%|█████████▎| 80/86 [00:40<00:02,  2.60it/s]64.74416732788086\n",
            "100%|██████████| 86/86 [00:42<00:00,  2.02it/s]\n",
            " 43%|████▎     | 37/86 [00:07<00:09,  5.28it/s]\n"
          ]
        },
        {
          "name": "stdout",
          "output_type": "stream",
          "text": [
            "[ 30/100] valid_loss: 103.03964\n",
            "Validation loss decreased (105.867101 --> 103.039643).  Saving model ...\n"
          ]
        },
        {
          "name": "stderr",
          "output_type": "stream",
          "text": [
            "  0%|          | 0/86 [00:00<?, ?it/s]64.47930908203125\n",
            " 12%|█▏        | 10/86 [00:09<00:37,  2.01it/s]64.29161987304687\n",
            " 23%|██▎       | 20/86 [00:13<00:30,  2.15it/s]64.3155632019043\n",
            " 35%|███▍      | 30/86 [00:18<00:25,  2.20it/s]64.4624038696289\n",
            " 47%|████▋     | 40/86 [00:22<00:20,  2.29it/s]64.19717025756836\n",
            " 58%|█████▊    | 50/86 [00:27<00:16,  2.16it/s]63.85344619750977\n",
            " 70%|██████▉   | 60/86 [00:32<00:11,  2.26it/s]63.659217834472656\n",
            " 81%|████████▏ | 70/86 [00:36<00:06,  2.55it/s]63.37748794555664\n",
            " 93%|█████████▎| 80/86 [00:40<00:02,  2.60it/s]63.10250129699707\n",
            "100%|██████████| 86/86 [00:42<00:00,  2.03it/s]\n",
            " 43%|████▎     | 37/86 [00:07<00:09,  5.27it/s]\n"
          ]
        },
        {
          "name": "stdout",
          "output_type": "stream",
          "text": [
            "[ 31/100] valid_loss: 101.47114\n",
            "Validation loss decreased (103.039643 --> 101.471137).  Saving model ...\n"
          ]
        },
        {
          "name": "stderr",
          "output_type": "stream",
          "text": [
            "  0%|          | 0/86 [00:00<?, ?it/s]63.04413986206055\n",
            " 12%|█▏        | 10/86 [00:09<00:38,  1.97it/s]62.739862060546876\n",
            " 23%|██▎       | 20/86 [00:14<00:29,  2.23it/s]62.762438201904295\n",
            " 35%|███▍      | 30/86 [00:18<00:23,  2.38it/s]62.59357528686523\n",
            " 47%|████▋     | 40/86 [00:23<00:19,  2.37it/s]63.09964561462402\n",
            " 58%|█████▊    | 50/86 [00:27<00:17,  2.11it/s]62.25572738647461\n",
            " 70%|██████▉   | 60/86 [00:32<00:11,  2.24it/s]62.36787223815918\n",
            " 81%|████████▏ | 70/86 [00:36<00:06,  2.58it/s]61.91073379516602\n",
            " 93%|█████████▎| 80/86 [00:40<00:02,  2.59it/s]62.090241241455075\n",
            "100%|██████████| 86/86 [00:42<00:00,  2.03it/s]\n",
            " 43%|████▎     | 37/86 [00:07<00:09,  5.26it/s]\n"
          ]
        },
        {
          "name": "stdout",
          "output_type": "stream",
          "text": [
            "[ 32/100] valid_loss: 100.29260\n",
            "Validation loss decreased (101.471137 --> 100.292600).  Saving model ...\n"
          ]
        },
        {
          "name": "stderr",
          "output_type": "stream",
          "text": [
            "  0%|          | 0/86 [00:00<?, ?it/s]61.91438293457031\n",
            " 12%|█▏        | 10/86 [00:09<00:38,  1.95it/s]61.970740127563474\n",
            " 23%|██▎       | 20/86 [00:14<00:31,  2.09it/s]61.60092697143555\n",
            " 35%|███▍      | 30/86 [00:18<00:24,  2.26it/s]61.62674827575684\n",
            " 47%|████▋     | 40/86 [00:23<00:19,  2.32it/s]61.114233779907224\n",
            " 58%|█████▊    | 50/86 [00:27<00:16,  2.20it/s]61.38474044799805\n",
            " 70%|██████▉   | 60/86 [00:32<00:11,  2.25it/s]61.136084747314456\n",
            " 81%|████████▏ | 70/86 [00:36<00:06,  2.57it/s]60.8991813659668\n",
            " 93%|█████████▎| 80/86 [00:40<00:02,  2.62it/s]61.030007934570314\n",
            "100%|██████████| 86/86 [00:42<00:00,  2.03it/s]\n",
            " 43%|████▎     | 37/86 [00:07<00:09,  5.25it/s]\n"
          ]
        },
        {
          "name": "stdout",
          "output_type": "stream",
          "text": [
            "[ 33/100] valid_loss: 97.72068\n",
            "Validation loss decreased (100.292600 --> 97.720677).  Saving model ...\n"
          ]
        },
        {
          "name": "stderr",
          "output_type": "stream",
          "text": [
            "  0%|          | 0/86 [00:00<?, ?it/s]60.591922760009766\n",
            " 12%|█▏        | 10/86 [00:09<00:38,  2.00it/s]60.57255210876465\n",
            " 23%|██▎       | 20/86 [00:14<00:29,  2.23it/s]60.352704238891604\n",
            " 35%|███▍      | 30/86 [00:18<00:25,  2.20it/s]60.364953231811526\n",
            " 47%|████▋     | 40/86 [00:23<00:20,  2.26it/s]60.07078819274902\n",
            " 58%|█████▊    | 50/86 [00:27<00:17,  2.10it/s]60.001677703857425\n",
            " 70%|██████▉   | 60/86 [00:32<00:11,  2.33it/s]59.822458267211914\n",
            " 81%|████████▏ | 70/86 [00:36<00:06,  2.58it/s]60.04222412109375\n",
            " 93%|█████████▎| 80/86 [00:39<00:02,  2.60it/s]59.66902847290039\n",
            "100%|██████████| 86/86 [00:42<00:00,  2.04it/s]\n",
            " 43%|████▎     | 37/86 [00:07<00:09,  5.25it/s]\n"
          ]
        },
        {
          "name": "stdout",
          "output_type": "stream",
          "text": [
            "[ 34/100] valid_loss: 96.20881\n",
            "Validation loss decreased (97.720677 --> 96.208809).  Saving model ...\n"
          ]
        },
        {
          "name": "stderr",
          "output_type": "stream",
          "text": [
            "  0%|          | 0/86 [00:00<?, ?it/s]59.67708206176758\n",
            " 12%|█▏        | 10/86 [00:09<00:37,  2.00it/s]59.46200332641602\n",
            " 23%|██▎       | 20/86 [00:14<00:31,  2.11it/s]59.35654754638672\n",
            " 35%|███▍      | 30/86 [00:18<00:23,  2.34it/s]59.21932792663574\n",
            " 47%|████▋     | 40/86 [00:22<00:20,  2.24it/s]59.056325149536136\n",
            " 58%|█████▊    | 50/86 [00:27<00:16,  2.18it/s]58.784349822998045\n",
            " 70%|██████▉   | 60/86 [00:31<00:11,  2.22it/s]57.93661193847656\n",
            " 81%|████████▏ | 70/86 [00:36<00:06,  2.56it/s]57.80521354675293\n",
            " 93%|█████████▎| 80/86 [00:39<00:02,  2.60it/s]57.65236473083496\n",
            "100%|██████████| 86/86 [00:42<00:00,  2.04it/s]\n",
            " 43%|████▎     | 37/86 [00:07<00:09,  5.22it/s]\n"
          ]
        },
        {
          "name": "stdout",
          "output_type": "stream",
          "text": [
            "[ 35/100] valid_loss: 93.82397\n",
            "Validation loss decreased (96.208809 --> 93.823973).  Saving model ...\n"
          ]
        },
        {
          "name": "stderr",
          "output_type": "stream",
          "text": [
            "  0%|          | 0/86 [00:00<?, ?it/s]57.54913330078125\n",
            " 12%|█▏        | 10/86 [00:09<00:37,  2.03it/s]57.4260612487793\n",
            " 23%|██▎       | 20/86 [00:14<00:30,  2.17it/s]57.30885047912598\n",
            " 35%|███▍      | 30/86 [00:18<00:24,  2.30it/s]57.23447036743164\n",
            " 47%|████▋     | 40/86 [00:23<00:20,  2.19it/s]57.19789924621582\n",
            " 58%|█████▊    | 50/86 [00:27<00:16,  2.23it/s]57.186472702026364\n",
            " 70%|██████▉   | 60/86 [00:32<00:10,  2.38it/s]56.857683944702146\n",
            " 81%|████████▏ | 70/86 [00:36<00:06,  2.56it/s]56.92031745910644\n",
            " 93%|█████████▎| 80/86 [00:39<00:02,  2.59it/s]56.74806251525879\n",
            "100%|██████████| 86/86 [00:42<00:00,  2.03it/s]\n",
            " 43%|████▎     | 37/86 [00:07<00:09,  5.25it/s]\n"
          ]
        },
        {
          "name": "stdout",
          "output_type": "stream",
          "text": [
            "[ 36/100] valid_loss: 92.62658\n",
            "Validation loss decreased (93.823973 --> 92.626584).  Saving model ...\n"
          ]
        },
        {
          "name": "stderr",
          "output_type": "stream",
          "text": [
            "  0%|          | 0/86 [00:00<?, ?it/s]56.450523376464844\n",
            " 12%|█▏        | 10/86 [00:09<00:38,  1.98it/s]56.4943344116211\n",
            " 23%|██▎       | 20/86 [00:14<00:30,  2.19it/s]56.44049758911133\n",
            " 35%|███▍      | 30/86 [00:18<00:24,  2.28it/s]56.49162826538086\n",
            " 47%|████▋     | 40/86 [00:23<00:21,  2.19it/s]56.37074356079101\n",
            " 58%|█████▊    | 50/86 [00:28<00:16,  2.20it/s]56.16240119934082\n",
            " 70%|██████▉   | 60/86 [00:32<00:11,  2.25it/s]55.96599235534668\n",
            " 81%|████████▏ | 70/86 [00:36<00:06,  2.59it/s]55.92820167541504\n",
            " 93%|█████████▎| 80/86 [00:40<00:02,  2.60it/s]56.037563705444335\n",
            "100%|██████████| 86/86 [00:42<00:00,  2.01it/s]\n",
            " 43%|████▎     | 37/86 [00:07<00:09,  5.16it/s]\n"
          ]
        },
        {
          "name": "stdout",
          "output_type": "stream",
          "text": [
            "[ 37/100] valid_loss: 90.78561\n",
            "Validation loss decreased (92.626584 --> 90.785612).  Saving model ...\n"
          ]
        },
        {
          "name": "stderr",
          "output_type": "stream",
          "text": [
            "  0%|          | 0/86 [00:00<?, ?it/s]56.90916442871094\n",
            " 12%|█▏        | 10/86 [00:09<00:37,  2.03it/s]55.76207847595215\n",
            " 23%|██▎       | 20/86 [00:14<00:31,  2.07it/s]55.57039260864258\n",
            " 35%|███▍      | 30/86 [00:18<00:25,  2.23it/s]55.54034576416016\n",
            " 47%|████▋     | 40/86 [00:23<00:20,  2.26it/s]55.39138679504394\n",
            " 58%|█████▊    | 50/86 [00:27<00:16,  2.18it/s]55.3714096069336\n",
            " 70%|██████▉   | 60/86 [00:32<00:11,  2.33it/s]55.26535491943359\n",
            " 81%|████████▏ | 70/86 [00:36<00:06,  2.58it/s]55.28321876525879\n",
            " 93%|█████████▎| 80/86 [00:39<00:02,  2.60it/s]55.058455276489255\n",
            "100%|██████████| 86/86 [00:42<00:00,  2.03it/s]\n",
            " 43%|████▎     | 37/86 [00:07<00:09,  5.14it/s]\n"
          ]
        },
        {
          "name": "stdout",
          "output_type": "stream",
          "text": [
            "[ 38/100] valid_loss: 88.95982\n",
            "Validation loss decreased (90.785612 --> 88.959823).  Saving model ...\n"
          ]
        },
        {
          "name": "stderr",
          "output_type": "stream",
          "text": [
            "  0%|          | 0/86 [00:00<?, ?it/s]54.18395233154297\n",
            " 12%|█▏        | 10/86 [00:09<00:38,  1.99it/s]52.80498352050781\n",
            " 23%|██▎       | 20/86 [00:14<00:30,  2.17it/s]51.77810783386231\n",
            " 35%|███▍      | 30/86 [00:18<00:26,  2.10it/s]51.41638526916504\n",
            " 47%|████▋     | 40/86 [00:23<00:20,  2.26it/s]51.461548233032225\n",
            " 58%|█████▊    | 50/86 [00:27<00:15,  2.27it/s]51.44875221252441\n",
            " 70%|██████▉   | 60/86 [00:32<00:11,  2.36it/s]51.190989303588864\n",
            " 81%|████████▏ | 70/86 [00:36<00:06,  2.58it/s]51.194235229492186\n",
            " 93%|█████████▎| 80/86 [00:40<00:02,  2.60it/s]51.11300773620606\n",
            "100%|██████████| 86/86 [00:42<00:00,  2.03it/s]\n",
            " 43%|████▎     | 37/86 [00:07<00:09,  5.23it/s]\n"
          ]
        },
        {
          "name": "stdout",
          "output_type": "stream",
          "text": [
            "[ 39/100] valid_loss: 86.14323\n",
            "Validation loss decreased (88.959823 --> 86.143225).  Saving model ...\n"
          ]
        },
        {
          "name": "stderr",
          "output_type": "stream",
          "text": [
            "  0%|          | 0/86 [00:00<?, ?it/s]51.37145233154297\n",
            " 12%|█▏        | 10/86 [00:09<00:38,  2.00it/s]51.773888397216794\n",
            " 23%|██▎       | 20/86 [00:14<00:30,  2.14it/s]51.56605453491211\n",
            " 35%|███▍      | 30/86 [00:18<00:24,  2.29it/s]51.717478561401364\n",
            " 47%|████▋     | 40/86 [00:23<00:20,  2.28it/s]51.52683639526367\n",
            " 58%|█████▊    | 50/86 [00:28<00:16,  2.15it/s]51.19686279296875\n",
            " 70%|██████▉   | 60/86 [00:32<00:11,  2.34it/s]51.72622108459473\n",
            " 81%|████████▏ | 70/86 [00:36<00:06,  2.59it/s]51.22348823547363\n",
            " 93%|█████████▎| 80/86 [00:40<00:02,  2.60it/s]50.92567672729492\n",
            "100%|██████████| 86/86 [00:42<00:00,  2.02it/s]\n",
            " 43%|████▎     | 37/86 [00:07<00:09,  5.24it/s]\n"
          ]
        },
        {
          "name": "stdout",
          "output_type": "stream",
          "text": [
            "[ 40/100] valid_loss: 84.62372\n",
            "Validation loss decreased (86.143225 --> 84.623721).  Saving model ...\n"
          ]
        },
        {
          "name": "stderr",
          "output_type": "stream",
          "text": [
            "  0%|          | 0/86 [00:00<?, ?it/s]50.795074462890625\n",
            " 12%|█▏        | 10/86 [00:09<00:38,  1.99it/s]50.728933334350586\n",
            " 23%|██▎       | 20/86 [00:14<00:31,  2.10it/s]50.70954132080078\n",
            " 35%|███▍      | 30/86 [00:18<00:23,  2.34it/s]50.58664970397949\n",
            " 47%|████▋     | 40/86 [00:22<00:19,  2.34it/s]50.15768737792969\n",
            " 58%|█████▊    | 50/86 [00:27<00:17,  2.11it/s]49.85042877197266\n",
            " 70%|██████▉   | 60/86 [00:32<00:11,  2.18it/s]49.095605087280276\n",
            " 81%|████████▏ | 70/86 [00:36<00:06,  2.57it/s]48.51358833312988\n",
            " 93%|█████████▎| 80/86 [00:39<00:02,  2.60it/s]47.48417015075684\n",
            "100%|██████████| 86/86 [00:42<00:00,  2.04it/s]\n",
            " 43%|████▎     | 37/86 [00:07<00:09,  5.19it/s]\n"
          ]
        },
        {
          "name": "stdout",
          "output_type": "stream",
          "text": [
            "[ 41/100] valid_loss: 80.08204\n",
            "Validation loss decreased (84.623721 --> 80.082036).  Saving model ...\n"
          ]
        },
        {
          "name": "stderr",
          "output_type": "stream",
          "text": [
            "  0%|          | 0/86 [00:00<?, ?it/s]46.41204071044922\n",
            " 12%|█▏        | 10/86 [00:09<00:37,  2.00it/s]43.68052024841309\n",
            " 23%|██▎       | 20/86 [00:14<00:29,  2.21it/s]39.67719039916992\n",
            " 35%|███▍      | 30/86 [00:18<00:24,  2.29it/s]38.5002857208252\n",
            " 47%|████▋     | 40/86 [00:23<00:20,  2.20it/s]38.34217147827148\n",
            " 58%|█████▊    | 50/86 [00:27<00:17,  2.08it/s]38.110282516479494\n",
            " 70%|██████▉   | 60/86 [00:32<00:11,  2.21it/s]37.84198760986328\n",
            " 81%|████████▏ | 70/86 [00:36<00:06,  2.56it/s]37.97062759399414\n",
            " 93%|█████████▎| 80/86 [00:40<00:02,  2.59it/s]37.79525718688965\n",
            "100%|██████████| 86/86 [00:42<00:00,  2.02it/s]\n",
            " 43%|████▎     | 37/86 [00:07<00:09,  5.20it/s]\n"
          ]
        },
        {
          "name": "stdout",
          "output_type": "stream",
          "text": [
            "[ 42/100] valid_loss: 72.71089\n",
            "Validation loss decreased (80.082036 --> 72.710886).  Saving model ...\n"
          ]
        },
        {
          "name": "stderr",
          "output_type": "stream",
          "text": [
            "  0%|          | 0/86 [00:00<?, ?it/s]38.25599670410156\n",
            " 12%|█▏        | 10/86 [00:09<00:38,  1.97it/s]38.76288414001465\n",
            " 23%|██▎       | 20/86 [00:14<00:30,  2.19it/s]39.6478687286377\n",
            " 35%|███▍      | 30/86 [00:18<00:24,  2.24it/s]40.34863815307617\n",
            " 47%|████▋     | 40/86 [00:23<00:19,  2.37it/s]40.84475212097168\n",
            " 58%|█████▊    | 50/86 [00:27<00:16,  2.20it/s]40.45684471130371\n",
            " 70%|██████▉   | 60/86 [00:32<00:11,  2.26it/s]40.917670822143556\n",
            " 81%|████████▏ | 70/86 [00:36<00:06,  2.56it/s]40.023641204833986\n",
            " 93%|█████████▎| 80/86 [00:40<00:02,  2.60it/s]41.71528663635254\n",
            "100%|██████████| 86/86 [00:42<00:00,  2.02it/s]\n",
            " 43%|████▎     | 37/86 [00:06<00:09,  5.29it/s]"
          ]
        },
        {
          "name": "stdout",
          "output_type": "stream",
          "text": [
            "[ 43/100] valid_loss: 73.45171\n",
            "EarlyStopping counter: 1 out of 10\n"
          ]
        },
        {
          "name": "stderr",
          "output_type": "stream",
          "text": [
            "\n",
            "  0%|          | 0/86 [00:00<?, ?it/s]39.95471954345703\n",
            " 12%|█▏        | 10/86 [00:09<00:36,  2.06it/s]44.36592445373535\n",
            " 23%|██▎       | 20/86 [00:14<00:30,  2.16it/s]44.5410758972168\n",
            " 35%|███▍      | 30/86 [00:18<00:24,  2.26it/s]45.074436569213866\n",
            " 47%|████▋     | 40/86 [00:23<00:20,  2.24it/s]46.79175720214844\n",
            " 58%|█████▊    | 50/86 [00:27<00:16,  2.15it/s]47.78518524169922\n",
            " 70%|██████▉   | 60/86 [00:31<00:10,  2.40it/s]48.48914108276367\n",
            " 81%|████████▏ | 70/86 [00:35<00:06,  2.58it/s]49.729491806030275\n",
            " 93%|█████████▎| 80/86 [00:39<00:02,  2.60it/s]48.75578842163086\n",
            "100%|██████████| 86/86 [00:42<00:00,  2.05it/s]\n",
            " 43%|████▎     | 37/86 [00:07<00:09,  5.26it/s]"
          ]
        },
        {
          "name": "stdout",
          "output_type": "stream",
          "text": [
            "[ 44/100] valid_loss: 74.17027\n",
            "EarlyStopping counter: 2 out of 10\n"
          ]
        },
        {
          "name": "stderr",
          "output_type": "stream",
          "text": [
            "\n",
            "  0%|          | 0/86 [00:00<?, ?it/s]45.81364440917969\n",
            " 12%|█▏        | 10/86 [00:09<00:38,  1.98it/s]46.80546188354492\n",
            " 23%|██▎       | 20/86 [00:14<00:29,  2.25it/s]48.137705612182614\n",
            " 35%|███▍      | 30/86 [00:18<00:24,  2.25it/s]47.851823043823245\n",
            " 47%|████▋     | 40/86 [00:23<00:21,  2.17it/s]47.641754150390625\n",
            " 58%|█████▊    | 50/86 [00:27<00:15,  2.26it/s]47.28855857849121\n",
            " 70%|██████▉   | 60/86 [00:31<00:10,  2.41it/s]47.667059326171874\n",
            " 81%|████████▏ | 70/86 [00:35<00:06,  2.59it/s]48.888739013671874\n",
            " 93%|█████████▎| 80/86 [00:39<00:02,  2.60it/s]48.424329376220705\n",
            "100%|██████████| 86/86 [00:41<00:00,  2.06it/s]\n",
            " 43%|████▎     | 37/86 [00:07<00:09,  5.16it/s]"
          ]
        },
        {
          "name": "stdout",
          "output_type": "stream",
          "text": [
            "[ 45/100] valid_loss: 73.72775\n",
            "EarlyStopping counter: 3 out of 10\n"
          ]
        },
        {
          "name": "stderr",
          "output_type": "stream",
          "text": [
            "\n",
            "  0%|          | 0/86 [00:00<?, ?it/s]43.03001403808594\n",
            " 12%|█▏        | 10/86 [00:09<00:36,  2.07it/s]44.06700477600098\n",
            " 23%|██▎       | 20/86 [00:13<00:30,  2.16it/s]45.15815963745117\n",
            " 35%|███▍      | 30/86 [00:18<00:24,  2.25it/s]44.648524856567384\n",
            " 47%|████▋     | 40/86 [00:22<00:21,  2.18it/s]45.470703506469725\n",
            " 58%|█████▊    | 50/86 [00:27<00:16,  2.17it/s]44.94243469238281\n",
            " 70%|██████▉   | 60/86 [00:31<00:10,  2.46it/s]44.27415504455566\n",
            " 81%|████████▏ | 70/86 [00:35<00:06,  2.61it/s]43.71371345520019\n",
            " 93%|█████████▎| 80/86 [00:39<00:02,  2.60it/s]44.39547843933106\n",
            "100%|██████████| 86/86 [00:41<00:00,  2.06it/s]\n",
            " 43%|████▎     | 37/86 [00:07<00:09,  5.28it/s]"
          ]
        },
        {
          "name": "stdout",
          "output_type": "stream",
          "text": [
            "[ 46/100] valid_loss: 72.85882\n",
            "EarlyStopping counter: 4 out of 10\n"
          ]
        },
        {
          "name": "stderr",
          "output_type": "stream",
          "text": [
            "\n",
            "  0%|          | 0/86 [00:00<?, ?it/s]41.53096389770508\n",
            " 12%|█▏        | 10/86 [00:09<00:37,  2.04it/s]41.67090263366699\n",
            " 23%|██▎       | 20/86 [00:13<00:29,  2.27it/s]41.87655830383301\n",
            " 35%|███▍      | 30/86 [00:18<00:24,  2.24it/s]41.79725456237793\n",
            " 47%|████▋     | 40/86 [00:22<00:20,  2.26it/s]41.570980072021484\n",
            " 58%|█████▊    | 50/86 [00:27<00:15,  2.26it/s]41.091931915283205\n",
            " 70%|██████▉   | 60/86 [00:31<00:10,  2.44it/s]41.544180679321286\n",
            " 81%|████████▏ | 70/86 [00:35<00:06,  2.60it/s]41.78690414428711\n",
            " 93%|█████████▎| 80/86 [00:39<00:02,  2.59it/s]41.52003211975098\n",
            "100%|██████████| 86/86 [00:41<00:00,  2.07it/s]\n",
            " 43%|████▎     | 37/86 [00:06<00:09,  5.30it/s]\n"
          ]
        },
        {
          "name": "stdout",
          "output_type": "stream",
          "text": [
            "[ 47/100] valid_loss: 72.03647\n",
            "Validation loss decreased (72.710886 --> 72.036473).  Saving model ...\n"
          ]
        },
        {
          "name": "stderr",
          "output_type": "stream",
          "text": [
            "  0%|          | 0/86 [00:00<?, ?it/s]40.754478454589844\n",
            " 12%|█▏        | 10/86 [00:09<00:38,  1.99it/s]40.15052108764648\n",
            " 23%|██▎       | 20/86 [00:14<00:31,  2.12it/s]40.3378604888916\n",
            " 35%|███▍      | 30/86 [00:18<00:24,  2.26it/s]40.527571487426755\n",
            " 47%|████▋     | 40/86 [00:23<00:19,  2.31it/s]39.74315986633301\n",
            " 58%|█████▊    | 50/86 [00:27<00:15,  2.28it/s]40.09533882141113\n",
            " 70%|██████▉   | 60/86 [00:32<00:11,  2.23it/s]40.07261772155762\n",
            " 81%|████████▏ | 70/86 [00:36<00:06,  2.56it/s]40.32424812316894\n",
            " 93%|█████████▎| 80/86 [00:40<00:02,  2.61it/s]40.157727813720705\n",
            "100%|██████████| 86/86 [00:42<00:00,  2.03it/s]\n",
            " 43%|████▎     | 37/86 [00:07<00:09,  5.24it/s]\n"
          ]
        },
        {
          "name": "stdout",
          "output_type": "stream",
          "text": [
            "[ 48/100] valid_loss: 71.81592\n",
            "Validation loss decreased (72.036473 --> 71.815920).  Saving model ...\n"
          ]
        },
        {
          "name": "stderr",
          "output_type": "stream",
          "text": [
            "  0%|          | 0/86 [00:00<?, ?it/s]39.24833297729492\n",
            " 12%|█▏        | 10/86 [00:09<00:38,  2.00it/s]39.45888977050781\n",
            " 23%|██▎       | 20/86 [00:14<00:29,  2.20it/s]39.195060348510744\n",
            " 35%|███▍      | 30/86 [00:18<00:25,  2.20it/s]38.824348068237306\n",
            " 47%|████▋     | 40/86 [00:23<00:20,  2.21it/s]38.72254867553711\n",
            " 58%|█████▊    | 50/86 [00:27<00:15,  2.27it/s]38.904131698608396\n",
            " 70%|██████▉   | 60/86 [00:32<00:11,  2.30it/s]38.751112365722655\n",
            " 81%|████████▏ | 70/86 [00:36<00:06,  2.58it/s]38.91642456054687\n",
            " 93%|█████████▎| 80/86 [00:40<00:02,  2.59it/s]38.90723724365235\n",
            "100%|██████████| 86/86 [00:42<00:00,  2.03it/s]\n",
            " 43%|████▎     | 37/86 [00:06<00:09,  5.34it/s]"
          ]
        },
        {
          "name": "stdout",
          "output_type": "stream",
          "text": [
            "[ 49/100] valid_loss: 71.83363\n",
            "EarlyStopping counter: 1 out of 10\n"
          ]
        },
        {
          "name": "stderr",
          "output_type": "stream",
          "text": [
            "\n",
            "  0%|          | 0/86 [00:00<?, ?it/s]38.084205627441406\n",
            " 12%|█▏        | 10/86 [00:09<00:38,  1.99it/s]38.346971130371095\n",
            " 23%|██▎       | 20/86 [00:13<00:29,  2.20it/s]38.17701644897461\n",
            " 35%|███▍      | 30/86 [00:18<00:25,  2.17it/s]38.470802307128906\n",
            " 47%|████▋     | 40/86 [00:23<00:21,  2.18it/s]38.3482364654541\n",
            " 58%|█████▊    | 50/86 [00:27<00:16,  2.16it/s]38.10860824584961\n",
            " 70%|██████▉   | 60/86 [00:31<00:10,  2.38it/s]37.9308780670166\n",
            " 81%|████████▏ | 70/86 [00:35<00:06,  2.61it/s]38.245979690551756\n",
            " 93%|█████████▎| 80/86 [00:39<00:02,  2.59it/s]38.29811782836914\n",
            "100%|██████████| 86/86 [00:41<00:00,  2.06it/s]\n",
            " 43%|████▎     | 37/86 [00:07<00:09,  5.28it/s]"
          ]
        },
        {
          "name": "stdout",
          "output_type": "stream",
          "text": [
            "[ 50/100] valid_loss: 72.44836\n",
            "EarlyStopping counter: 2 out of 10\n"
          ]
        },
        {
          "name": "stderr",
          "output_type": "stream",
          "text": [
            "\n",
            "  0%|          | 0/86 [00:00<?, ?it/s]37.553741455078125\n",
            " 12%|█▏        | 10/86 [00:09<00:37,  2.05it/s]37.50491485595703\n",
            " 23%|██▎       | 20/86 [00:13<00:29,  2.20it/s]37.59367446899414\n",
            " 35%|███▍      | 30/86 [00:18<00:23,  2.37it/s]38.212943649291994\n",
            " 47%|████▋     | 40/86 [00:22<00:20,  2.28it/s]37.96250762939453\n",
            " 58%|█████▊    | 50/86 [00:27<00:16,  2.18it/s]37.56498985290527\n",
            " 70%|██████▉   | 60/86 [00:31<00:10,  2.41it/s]37.65845375061035\n",
            " 81%|████████▏ | 70/86 [00:35<00:06,  2.60it/s]37.484738159179685\n",
            " 93%|█████████▎| 80/86 [00:39<00:02,  2.60it/s]37.77077713012695\n",
            "100%|██████████| 86/86 [00:41<00:00,  2.08it/s]\n",
            " 43%|████▎     | 37/86 [00:07<00:09,  5.26it/s]\n"
          ]
        },
        {
          "name": "stdout",
          "output_type": "stream",
          "text": [
            "[ 51/100] valid_loss: 71.66732\n",
            "Validation loss decreased (71.815920 --> 71.667320).  Saving model ...\n"
          ]
        },
        {
          "name": "stderr",
          "output_type": "stream",
          "text": [
            "  0%|          | 0/86 [00:00<?, ?it/s]37.505638122558594\n",
            " 12%|█▏        | 10/86 [00:09<00:38,  1.99it/s]37.723885726928714\n",
            " 23%|██▎       | 20/86 [00:13<00:29,  2.21it/s]37.924857711791994\n",
            " 35%|███▍      | 30/86 [00:18<00:24,  2.30it/s]37.848262023925784\n",
            " 47%|████▋     | 40/86 [00:23<00:21,  2.18it/s]37.61554222106933\n",
            " 58%|█████▊    | 50/86 [00:27<00:16,  2.15it/s]37.70183792114258\n",
            " 70%|██████▉   | 60/86 [00:32<00:11,  2.31it/s]37.7857162475586\n",
            " 81%|████████▏ | 70/86 [00:36<00:06,  2.56it/s]37.636307907104495\n",
            " 93%|█████████▎| 80/86 [00:40<00:02,  2.60it/s]37.510227584838866\n",
            "100%|██████████| 86/86 [00:42<00:00,  2.03it/s]\n",
            " 43%|████▎     | 37/86 [00:07<00:09,  5.18it/s]"
          ]
        },
        {
          "name": "stdout",
          "output_type": "stream",
          "text": [
            "[ 52/100] valid_loss: 71.80135\n",
            "EarlyStopping counter: 1 out of 10\n"
          ]
        },
        {
          "name": "stderr",
          "output_type": "stream",
          "text": [
            "\n",
            "  0%|          | 0/86 [00:00<?, ?it/s]37.74061584472656\n",
            " 12%|█▏        | 10/86 [00:09<00:38,  1.98it/s]37.53101081848145\n",
            " 23%|██▎       | 20/86 [00:13<00:29,  2.24it/s]37.48771667480469\n",
            " 35%|███▍      | 30/86 [00:18<00:23,  2.34it/s]37.308379364013675\n",
            " 47%|████▋     | 40/86 [00:22<00:20,  2.27it/s]37.28456077575684\n",
            " 58%|█████▊    | 50/86 [00:27<00:16,  2.24it/s]37.52530517578125\n",
            " 70%|██████▉   | 60/86 [00:31<00:11,  2.36it/s]37.34826545715332\n",
            " 81%|████████▏ | 70/86 [00:35<00:06,  2.60it/s]37.32298736572265\n",
            " 93%|█████████▎| 80/86 [00:39<00:02,  2.59it/s]37.138522720336915\n",
            "100%|██████████| 86/86 [00:41<00:00,  2.06it/s]\n",
            " 43%|████▎     | 37/86 [00:07<00:09,  5.19it/s]"
          ]
        },
        {
          "name": "stdout",
          "output_type": "stream",
          "text": [
            "[ 53/100] valid_loss: 72.25480\n",
            "EarlyStopping counter: 2 out of 10\n"
          ]
        },
        {
          "name": "stderr",
          "output_type": "stream",
          "text": [
            "\n",
            "  0%|          | 0/86 [00:00<?, ?it/s]36.9819221496582\n",
            " 12%|█▏        | 10/86 [00:09<00:36,  2.07it/s]37.072330474853516\n",
            " 23%|██▎       | 20/86 [00:13<00:28,  2.28it/s]37.00889358520508\n",
            " 35%|███▍      | 30/86 [00:18<00:25,  2.22it/s]37.263611221313475\n",
            " 47%|████▋     | 40/86 [00:22<00:20,  2.21it/s]36.99994125366211\n",
            " 58%|█████▊    | 50/86 [00:27<00:16,  2.17it/s]37.083221435546875\n",
            " 70%|██████▉   | 60/86 [00:31<00:10,  2.39it/s]36.99344253540039\n",
            " 81%|████████▏ | 70/86 [00:35<00:06,  2.59it/s]37.34963455200195\n",
            " 93%|█████████▎| 80/86 [00:39<00:02,  2.58it/s]37.06534423828125\n",
            "100%|██████████| 86/86 [00:41<00:00,  2.06it/s]\n",
            " 43%|████▎     | 37/86 [00:06<00:09,  5.30it/s]"
          ]
        },
        {
          "name": "stdout",
          "output_type": "stream",
          "text": [
            "[ 54/100] valid_loss: 72.53860\n",
            "EarlyStopping counter: 3 out of 10\n"
          ]
        },
        {
          "name": "stderr",
          "output_type": "stream",
          "text": [
            "\n",
            "  0%|          | 0/86 [00:00<?, ?it/s]36.981590270996094\n",
            " 12%|█▏        | 10/86 [00:09<00:37,  2.01it/s]36.90223007202148\n",
            " 23%|██▎       | 20/86 [00:14<00:29,  2.21it/s]37.021349334716795\n",
            " 35%|███▍      | 30/86 [00:18<00:24,  2.32it/s]36.857365417480466\n",
            " 47%|████▋     | 40/86 [00:23<00:20,  2.21it/s]36.86215476989746\n",
            " 58%|█████▊    | 50/86 [00:27<00:16,  2.23it/s]36.97395820617676\n",
            " 70%|██████▉   | 60/86 [00:31<00:10,  2.45it/s]37.04992561340332\n",
            " 81%|████████▏ | 70/86 [00:35<00:06,  2.60it/s]36.9808349609375\n",
            " 93%|█████████▎| 80/86 [00:39<00:02,  2.60it/s]37.075418853759764\n",
            "100%|██████████| 86/86 [00:41<00:00,  2.05it/s]\n",
            " 43%|████▎     | 37/86 [00:07<00:09,  5.22it/s]"
          ]
        },
        {
          "name": "stdout",
          "output_type": "stream",
          "text": [
            "[ 55/100] valid_loss: 73.08460\n",
            "EarlyStopping counter: 4 out of 10\n"
          ]
        },
        {
          "name": "stderr",
          "output_type": "stream",
          "text": [
            "\n",
            "  0%|          | 0/86 [00:00<?, ?it/s]36.949859619140625\n",
            " 12%|█▏        | 10/86 [00:09<00:37,  2.03it/s]36.77692756652832\n",
            " 23%|██▎       | 20/86 [00:13<00:31,  2.08it/s]37.021023178100585\n",
            " 35%|███▍      | 30/86 [00:18<00:25,  2.22it/s]36.92759552001953\n",
            " 47%|████▋     | 40/86 [00:22<00:20,  2.28it/s]36.82901496887207\n",
            " 58%|█████▊    | 50/86 [00:27<00:15,  2.26it/s]36.93996124267578\n",
            " 70%|██████▉   | 60/86 [00:31<00:10,  2.40it/s]36.69947052001953\n",
            " 81%|████████▏ | 70/86 [00:35<00:06,  2.58it/s]36.65458526611328\n",
            " 93%|█████████▎| 80/86 [00:39<00:02,  2.59it/s]36.699998474121095\n",
            "100%|██████████| 86/86 [00:41<00:00,  2.06it/s]\n",
            " 43%|████▎     | 37/86 [00:07<00:09,  5.21it/s]"
          ]
        },
        {
          "name": "stdout",
          "output_type": "stream",
          "text": [
            "[ 56/100] valid_loss: 73.07024\n",
            "EarlyStopping counter: 5 out of 10\n"
          ]
        },
        {
          "name": "stderr",
          "output_type": "stream",
          "text": [
            "\n",
            "  0%|          | 0/86 [00:00<?, ?it/s]36.24265670776367\n",
            " 12%|█▏        | 10/86 [00:09<00:37,  2.05it/s]36.90305671691895\n",
            " 23%|██▎       | 20/86 [00:14<00:28,  2.29it/s]36.837219619750975\n",
            " 35%|███▍      | 30/86 [00:18<00:24,  2.26it/s]36.674739837646484\n",
            " 47%|████▋     | 40/86 [00:23<00:21,  2.10it/s]36.71403541564941\n",
            " 58%|█████▊    | 50/86 [00:27<00:16,  2.17it/s]36.76060600280762\n",
            " 70%|██████▉   | 60/86 [00:31<00:10,  2.45it/s]36.52084541320801\n",
            " 81%|████████▏ | 70/86 [00:35<00:06,  2.59it/s]36.704935455322264\n",
            " 93%|█████████▎| 80/86 [00:39<00:02,  2.58it/s]36.63552284240723\n",
            "100%|██████████| 86/86 [00:41<00:00,  2.05it/s]\n",
            " 43%|████▎     | 37/86 [00:07<00:09,  5.23it/s]"
          ]
        },
        {
          "name": "stdout",
          "output_type": "stream",
          "text": [
            "[ 57/100] valid_loss: 73.76512\n",
            "EarlyStopping counter: 6 out of 10\n"
          ]
        },
        {
          "name": "stderr",
          "output_type": "stream",
          "text": [
            "\n",
            "  0%|          | 0/86 [00:00<?, ?it/s]36.738983154296875\n",
            " 12%|█▏        | 10/86 [00:09<00:39,  1.94it/s]36.58301849365235\n",
            " 23%|██▎       | 20/86 [00:13<00:29,  2.22it/s]36.59810600280762\n",
            " 35%|███▍      | 30/86 [00:18<00:24,  2.27it/s]36.5995231628418\n",
            " 47%|████▋     | 40/86 [00:23<00:21,  2.10it/s]36.81417541503906\n",
            " 58%|█████▊    | 50/86 [00:27<00:16,  2.15it/s]36.59271049499512\n",
            " 70%|██████▉   | 60/86 [00:31<00:10,  2.46it/s]36.525245666503906\n",
            " 81%|████████▏ | 70/86 [00:35<00:06,  2.59it/s]36.58033828735351\n",
            " 93%|█████████▎| 80/86 [00:39<00:02,  2.59it/s]36.56543235778808\n",
            "100%|██████████| 86/86 [00:41<00:00,  2.05it/s]\n",
            " 43%|████▎     | 37/86 [00:07<00:09,  5.21it/s]"
          ]
        },
        {
          "name": "stdout",
          "output_type": "stream",
          "text": [
            "[ 58/100] valid_loss: 73.68870\n",
            "EarlyStopping counter: 7 out of 10\n"
          ]
        },
        {
          "name": "stderr",
          "output_type": "stream",
          "text": [
            "\n",
            "  0%|          | 0/86 [00:00<?, ?it/s]36.053810119628906\n",
            " 12%|█▏        | 10/86 [00:09<00:37,  2.01it/s]36.7095287322998\n",
            " 23%|██▎       | 20/86 [00:14<00:29,  2.23it/s]36.58856735229492\n",
            " 35%|███▍      | 30/86 [00:18<00:24,  2.27it/s]36.7902645111084\n",
            " 47%|████▋     | 40/86 [00:22<00:20,  2.21it/s]36.76875305175781\n",
            " 58%|█████▊    | 50/86 [00:27<00:16,  2.16it/s]36.546621322631836\n",
            " 70%|██████▉   | 60/86 [00:31<00:10,  2.41it/s]36.59580688476562\n",
            " 81%|████████▏ | 70/86 [00:35<00:06,  2.60it/s]36.59491081237793\n",
            " 93%|█████████▎| 80/86 [00:39<00:02,  2.58it/s]36.497431945800784\n",
            "100%|██████████| 86/86 [00:41<00:00,  2.05it/s]\n",
            " 43%|████▎     | 37/86 [00:07<00:09,  5.27it/s]"
          ]
        },
        {
          "name": "stdout",
          "output_type": "stream",
          "text": [
            "[ 59/100] valid_loss: 73.44243\n",
            "EarlyStopping counter: 8 out of 10\n"
          ]
        },
        {
          "name": "stderr",
          "output_type": "stream",
          "text": [
            "\n",
            "  0%|          | 0/86 [00:00<?, ?it/s]35.95726776123047\n",
            " 12%|█▏        | 10/86 [00:09<00:37,  2.02it/s]36.4020580291748\n",
            " 23%|██▎       | 20/86 [00:13<00:29,  2.25it/s]36.56692123413086\n",
            " 35%|███▍      | 30/86 [00:18<00:25,  2.22it/s]36.44363174438477\n",
            " 47%|████▋     | 40/86 [00:22<00:20,  2.28it/s]36.66960105895996\n",
            " 58%|█████▊    | 50/86 [00:27<00:16,  2.15it/s]36.41654663085937\n",
            " 70%|██████▉   | 60/86 [00:31<00:10,  2.40it/s]36.56645545959473\n",
            " 81%|████████▏ | 70/86 [00:35<00:06,  2.60it/s]36.50856590270996\n",
            " 93%|█████████▎| 80/86 [00:39<00:02,  2.59it/s]36.61524658203125\n",
            "100%|██████████| 86/86 [00:41<00:00,  2.06it/s]\n",
            " 43%|████▎     | 37/86 [00:07<00:09,  5.27it/s]"
          ]
        },
        {
          "name": "stdout",
          "output_type": "stream",
          "text": [
            "[ 60/100] valid_loss: 73.62539\n",
            "EarlyStopping counter: 9 out of 10\n"
          ]
        },
        {
          "name": "stderr",
          "output_type": "stream",
          "text": [
            "\n",
            "  0%|          | 0/86 [00:00<?, ?it/s]36.64683532714844\n",
            " 12%|█▏        | 10/86 [00:09<00:39,  1.93it/s]36.564843368530276\n",
            " 23%|██▎       | 20/86 [00:13<00:28,  2.30it/s]36.41855049133301\n",
            " 35%|███▍      | 30/86 [00:18<00:24,  2.29it/s]36.409061431884766\n",
            " 47%|████▋     | 40/86 [00:22<00:21,  2.14it/s]36.47937126159668\n",
            " 58%|█████▊    | 50/86 [00:27<00:15,  2.26it/s]36.42003974914551\n",
            " 70%|██████▉   | 60/86 [00:31<00:10,  2.37it/s]36.74268989562988\n",
            " 81%|████████▏ | 70/86 [00:35<00:06,  2.58it/s]36.621207809448244\n",
            " 93%|█████████▎| 80/86 [00:39<00:02,  2.60it/s]36.68409194946289\n",
            "100%|██████████| 86/86 [00:41<00:00,  2.06it/s]\n",
            " 43%|████▎     | 37/86 [00:07<00:09,  5.23it/s]"
          ]
        },
        {
          "name": "stdout",
          "output_type": "stream",
          "text": [
            "[ 61/100] valid_loss: 74.18102\n",
            "EarlyStopping counter: 10 out of 10\n",
            "Early stopping\n"
          ]
        },
        {
          "name": "stderr",
          "output_type": "stream",
          "text": [
            "\n"
          ]
        }
      ],
      "source": [
        "train(net, train_data_loader, val_data_loader, optimizer, logger,num_epochs=100, patience=10)"
      ]
    },
    {
      "cell_type": "code",
      "execution_count": null,
      "metadata": {
        "id": "YpnOV1P6oNeM"
      },
      "outputs": [],
      "source": [
        ""
      ]
    }
  ],
  "metadata": {
    "accelerator": "GPU",
    "colab": {
      "collapsed_sections": [],
      "name": "Untitled6.ipynb",
      "provenance": []
    },
    "kernelspec": {
      "display_name": "Python 3",
      "name": "python3"
    },
    "language_info": {
      "name": "python"
    }
  },
  "nbformat": 4,
  "nbformat_minor": 0
}